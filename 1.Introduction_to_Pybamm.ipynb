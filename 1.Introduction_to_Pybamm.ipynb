{
  "nbformat": 4,
  "nbformat_minor": 0,
  "metadata": {
    "colab": {
      "provenance": [],
      "authorship_tag": "ABX9TyMkbtD8YW8qqe+fkIVhxbOn",
      "include_colab_link": true
    },
    "kernelspec": {
      "name": "python3",
      "display_name": "Python 3"
    },
    "language_info": {
      "name": "python"
    },
    "widgets": {
      "application/vnd.jupyter.widget-state+json": {
        "f247c529cff84d82afaf5cf40b7dffbe": {
          "model_module": "@jupyter-widgets/controls",
          "model_name": "VBoxModel",
          "model_module_version": "1.5.0",
          "state": {
            "_dom_classes": [
              "widget-interact"
            ],
            "_model_module": "@jupyter-widgets/controls",
            "_model_module_version": "1.5.0",
            "_model_name": "VBoxModel",
            "_view_count": null,
            "_view_module": "@jupyter-widgets/controls",
            "_view_module_version": "1.5.0",
            "_view_name": "VBoxView",
            "box_style": "",
            "children": [
              "IPY_MODEL_b46cec679a4c471584b15646019660eb",
              "IPY_MODEL_fa176a6ed0484af19704e3e8b61f34ef"
            ],
            "layout": "IPY_MODEL_82ea74fc9e974d42b4ad9e1a262b0592"
          }
        },
        "b46cec679a4c471584b15646019660eb": {
          "model_module": "@jupyter-widgets/controls",
          "model_name": "FloatSliderModel",
          "model_module_version": "1.5.0",
          "state": {
            "_dom_classes": [],
            "_model_module": "@jupyter-widgets/controls",
            "_model_module_version": "1.5.0",
            "_model_name": "FloatSliderModel",
            "_view_count": null,
            "_view_module": "@jupyter-widgets/controls",
            "_view_module_version": "1.5.0",
            "_view_name": "FloatSliderView",
            "continuous_update": true,
            "description": "t",
            "description_tooltip": null,
            "disabled": false,
            "layout": "IPY_MODEL_048d98789b93435cb148f05e9bcab3e6",
            "max": 1,
            "min": 0,
            "orientation": "horizontal",
            "readout": true,
            "readout_format": ".2f",
            "step": 0.01,
            "style": "IPY_MODEL_d1fb9208ef7f4d9d977d6260010cb5c3",
            "value": 0
          }
        },
        "fa176a6ed0484af19704e3e8b61f34ef": {
          "model_module": "@jupyter-widgets/output",
          "model_name": "OutputModel",
          "model_module_version": "1.0.0",
          "state": {
            "_dom_classes": [],
            "_model_module": "@jupyter-widgets/output",
            "_model_module_version": "1.0.0",
            "_model_name": "OutputModel",
            "_view_count": null,
            "_view_module": "@jupyter-widgets/output",
            "_view_module_version": "1.0.0",
            "_view_name": "OutputView",
            "layout": "IPY_MODEL_295b8b3247d146089847aef0f810ce39",
            "msg_id": "",
            "outputs": []
          }
        },
        "82ea74fc9e974d42b4ad9e1a262b0592": {
          "model_module": "@jupyter-widgets/base",
          "model_name": "LayoutModel",
          "model_module_version": "1.2.0",
          "state": {
            "_model_module": "@jupyter-widgets/base",
            "_model_module_version": "1.2.0",
            "_model_name": "LayoutModel",
            "_view_count": null,
            "_view_module": "@jupyter-widgets/base",
            "_view_module_version": "1.2.0",
            "_view_name": "LayoutView",
            "align_content": null,
            "align_items": null,
            "align_self": null,
            "border": null,
            "bottom": null,
            "display": null,
            "flex": null,
            "flex_flow": null,
            "grid_area": null,
            "grid_auto_columns": null,
            "grid_auto_flow": null,
            "grid_auto_rows": null,
            "grid_column": null,
            "grid_gap": null,
            "grid_row": null,
            "grid_template_areas": null,
            "grid_template_columns": null,
            "grid_template_rows": null,
            "height": null,
            "justify_content": null,
            "justify_items": null,
            "left": null,
            "margin": null,
            "max_height": null,
            "max_width": null,
            "min_height": null,
            "min_width": null,
            "object_fit": null,
            "object_position": null,
            "order": null,
            "overflow": null,
            "overflow_x": null,
            "overflow_y": null,
            "padding": null,
            "right": null,
            "top": null,
            "visibility": null,
            "width": null
          }
        },
        "048d98789b93435cb148f05e9bcab3e6": {
          "model_module": "@jupyter-widgets/base",
          "model_name": "LayoutModel",
          "model_module_version": "1.2.0",
          "state": {
            "_model_module": "@jupyter-widgets/base",
            "_model_module_version": "1.2.0",
            "_model_name": "LayoutModel",
            "_view_count": null,
            "_view_module": "@jupyter-widgets/base",
            "_view_module_version": "1.2.0",
            "_view_name": "LayoutView",
            "align_content": null,
            "align_items": null,
            "align_self": null,
            "border": null,
            "bottom": null,
            "display": null,
            "flex": null,
            "flex_flow": null,
            "grid_area": null,
            "grid_auto_columns": null,
            "grid_auto_flow": null,
            "grid_auto_rows": null,
            "grid_column": null,
            "grid_gap": null,
            "grid_row": null,
            "grid_template_areas": null,
            "grid_template_columns": null,
            "grid_template_rows": null,
            "height": null,
            "justify_content": null,
            "justify_items": null,
            "left": null,
            "margin": null,
            "max_height": null,
            "max_width": null,
            "min_height": null,
            "min_width": null,
            "object_fit": null,
            "object_position": null,
            "order": null,
            "overflow": null,
            "overflow_x": null,
            "overflow_y": null,
            "padding": null,
            "right": null,
            "top": null,
            "visibility": null,
            "width": null
          }
        },
        "d1fb9208ef7f4d9d977d6260010cb5c3": {
          "model_module": "@jupyter-widgets/controls",
          "model_name": "SliderStyleModel",
          "model_module_version": "1.5.0",
          "state": {
            "_model_module": "@jupyter-widgets/controls",
            "_model_module_version": "1.5.0",
            "_model_name": "SliderStyleModel",
            "_view_count": null,
            "_view_module": "@jupyter-widgets/base",
            "_view_module_version": "1.2.0",
            "_view_name": "StyleView",
            "description_width": "",
            "handle_color": null
          }
        },
        "295b8b3247d146089847aef0f810ce39": {
          "model_module": "@jupyter-widgets/base",
          "model_name": "LayoutModel",
          "model_module_version": "1.2.0",
          "state": {
            "_model_module": "@jupyter-widgets/base",
            "_model_module_version": "1.2.0",
            "_model_name": "LayoutModel",
            "_view_count": null,
            "_view_module": "@jupyter-widgets/base",
            "_view_module_version": "1.2.0",
            "_view_name": "LayoutView",
            "align_content": null,
            "align_items": null,
            "align_self": null,
            "border": null,
            "bottom": null,
            "display": null,
            "flex": null,
            "flex_flow": null,
            "grid_area": null,
            "grid_auto_columns": null,
            "grid_auto_flow": null,
            "grid_auto_rows": null,
            "grid_column": null,
            "grid_gap": null,
            "grid_row": null,
            "grid_template_areas": null,
            "grid_template_columns": null,
            "grid_template_rows": null,
            "height": null,
            "justify_content": null,
            "justify_items": null,
            "left": null,
            "margin": null,
            "max_height": null,
            "max_width": null,
            "min_height": null,
            "min_width": null,
            "object_fit": null,
            "object_position": null,
            "order": null,
            "overflow": null,
            "overflow_x": null,
            "overflow_y": null,
            "padding": null,
            "right": null,
            "top": null,
            "visibility": null,
            "width": null
          }
        },
        "a0892d91c2d1466bb4c31e4a28e67d0b": {
          "model_module": "@jupyter-widgets/controls",
          "model_name": "VBoxModel",
          "model_module_version": "1.5.0",
          "state": {
            "_dom_classes": [
              "widget-interact"
            ],
            "_model_module": "@jupyter-widgets/controls",
            "_model_module_version": "1.5.0",
            "_model_name": "VBoxModel",
            "_view_count": null,
            "_view_module": "@jupyter-widgets/controls",
            "_view_module_version": "1.5.0",
            "_view_name": "VBoxView",
            "box_style": "",
            "children": [
              "IPY_MODEL_03b52bfe36704a33aa1414ecdc4ebede",
              "IPY_MODEL_b6d6cdf4f86848c08602f3bb761778b2"
            ],
            "layout": "IPY_MODEL_61b0c92e2d7a4183adc714b7e1c13f49"
          }
        },
        "03b52bfe36704a33aa1414ecdc4ebede": {
          "model_module": "@jupyter-widgets/controls",
          "model_name": "FloatSliderModel",
          "model_module_version": "1.5.0",
          "state": {
            "_dom_classes": [],
            "_model_module": "@jupyter-widgets/controls",
            "_model_module_version": "1.5.0",
            "_model_name": "FloatSliderModel",
            "_view_count": null,
            "_view_module": "@jupyter-widgets/controls",
            "_view_module_version": "1.5.0",
            "_view_name": "FloatSliderView",
            "continuous_update": true,
            "description": "t",
            "description_tooltip": null,
            "disabled": false,
            "layout": "IPY_MODEL_d6522e6e2c5a4e53aab05f8217d2ecef",
            "max": 1,
            "min": 0,
            "orientation": "horizontal",
            "readout": true,
            "readout_format": ".2f",
            "step": 0.01,
            "style": "IPY_MODEL_9e275004be3b4d31ac77688e99985abf",
            "value": 0
          }
        },
        "b6d6cdf4f86848c08602f3bb761778b2": {
          "model_module": "@jupyter-widgets/output",
          "model_name": "OutputModel",
          "model_module_version": "1.0.0",
          "state": {
            "_dom_classes": [],
            "_model_module": "@jupyter-widgets/output",
            "_model_module_version": "1.0.0",
            "_model_name": "OutputModel",
            "_view_count": null,
            "_view_module": "@jupyter-widgets/output",
            "_view_module_version": "1.0.0",
            "_view_name": "OutputView",
            "layout": "IPY_MODEL_62ea86742c624fcc9a11751de11b15de",
            "msg_id": "",
            "outputs": []
          }
        },
        "61b0c92e2d7a4183adc714b7e1c13f49": {
          "model_module": "@jupyter-widgets/base",
          "model_name": "LayoutModel",
          "model_module_version": "1.2.0",
          "state": {
            "_model_module": "@jupyter-widgets/base",
            "_model_module_version": "1.2.0",
            "_model_name": "LayoutModel",
            "_view_count": null,
            "_view_module": "@jupyter-widgets/base",
            "_view_module_version": "1.2.0",
            "_view_name": "LayoutView",
            "align_content": null,
            "align_items": null,
            "align_self": null,
            "border": null,
            "bottom": null,
            "display": null,
            "flex": null,
            "flex_flow": null,
            "grid_area": null,
            "grid_auto_columns": null,
            "grid_auto_flow": null,
            "grid_auto_rows": null,
            "grid_column": null,
            "grid_gap": null,
            "grid_row": null,
            "grid_template_areas": null,
            "grid_template_columns": null,
            "grid_template_rows": null,
            "height": null,
            "justify_content": null,
            "justify_items": null,
            "left": null,
            "margin": null,
            "max_height": null,
            "max_width": null,
            "min_height": null,
            "min_width": null,
            "object_fit": null,
            "object_position": null,
            "order": null,
            "overflow": null,
            "overflow_x": null,
            "overflow_y": null,
            "padding": null,
            "right": null,
            "top": null,
            "visibility": null,
            "width": null
          }
        },
        "d6522e6e2c5a4e53aab05f8217d2ecef": {
          "model_module": "@jupyter-widgets/base",
          "model_name": "LayoutModel",
          "model_module_version": "1.2.0",
          "state": {
            "_model_module": "@jupyter-widgets/base",
            "_model_module_version": "1.2.0",
            "_model_name": "LayoutModel",
            "_view_count": null,
            "_view_module": "@jupyter-widgets/base",
            "_view_module_version": "1.2.0",
            "_view_name": "LayoutView",
            "align_content": null,
            "align_items": null,
            "align_self": null,
            "border": null,
            "bottom": null,
            "display": null,
            "flex": null,
            "flex_flow": null,
            "grid_area": null,
            "grid_auto_columns": null,
            "grid_auto_flow": null,
            "grid_auto_rows": null,
            "grid_column": null,
            "grid_gap": null,
            "grid_row": null,
            "grid_template_areas": null,
            "grid_template_columns": null,
            "grid_template_rows": null,
            "height": null,
            "justify_content": null,
            "justify_items": null,
            "left": null,
            "margin": null,
            "max_height": null,
            "max_width": null,
            "min_height": null,
            "min_width": null,
            "object_fit": null,
            "object_position": null,
            "order": null,
            "overflow": null,
            "overflow_x": null,
            "overflow_y": null,
            "padding": null,
            "right": null,
            "top": null,
            "visibility": null,
            "width": null
          }
        },
        "9e275004be3b4d31ac77688e99985abf": {
          "model_module": "@jupyter-widgets/controls",
          "model_name": "SliderStyleModel",
          "model_module_version": "1.5.0",
          "state": {
            "_model_module": "@jupyter-widgets/controls",
            "_model_module_version": "1.5.0",
            "_model_name": "SliderStyleModel",
            "_view_count": null,
            "_view_module": "@jupyter-widgets/base",
            "_view_module_version": "1.2.0",
            "_view_name": "StyleView",
            "description_width": "",
            "handle_color": null
          }
        },
        "62ea86742c624fcc9a11751de11b15de": {
          "model_module": "@jupyter-widgets/base",
          "model_name": "LayoutModel",
          "model_module_version": "1.2.0",
          "state": {
            "_model_module": "@jupyter-widgets/base",
            "_model_module_version": "1.2.0",
            "_model_name": "LayoutModel",
            "_view_count": null,
            "_view_module": "@jupyter-widgets/base",
            "_view_module_version": "1.2.0",
            "_view_name": "LayoutView",
            "align_content": null,
            "align_items": null,
            "align_self": null,
            "border": null,
            "bottom": null,
            "display": null,
            "flex": null,
            "flex_flow": null,
            "grid_area": null,
            "grid_auto_columns": null,
            "grid_auto_flow": null,
            "grid_auto_rows": null,
            "grid_column": null,
            "grid_gap": null,
            "grid_row": null,
            "grid_template_areas": null,
            "grid_template_columns": null,
            "grid_template_rows": null,
            "height": null,
            "justify_content": null,
            "justify_items": null,
            "left": null,
            "margin": null,
            "max_height": null,
            "max_width": null,
            "min_height": null,
            "min_width": null,
            "object_fit": null,
            "object_position": null,
            "order": null,
            "overflow": null,
            "overflow_x": null,
            "overflow_y": null,
            "padding": null,
            "right": null,
            "top": null,
            "visibility": null,
            "width": null
          }
        },
        "63152f5d7fa549018c8d9b6a941ccb23": {
          "model_module": "@jupyter-widgets/controls",
          "model_name": "VBoxModel",
          "model_module_version": "1.5.0",
          "state": {
            "_dom_classes": [
              "widget-interact"
            ],
            "_model_module": "@jupyter-widgets/controls",
            "_model_module_version": "1.5.0",
            "_model_name": "VBoxModel",
            "_view_count": null,
            "_view_module": "@jupyter-widgets/controls",
            "_view_module_version": "1.5.0",
            "_view_name": "VBoxView",
            "box_style": "",
            "children": [
              "IPY_MODEL_727839b550264415a44b657db8dc4988",
              "IPY_MODEL_1573c03de6674fea884bf671305b918b"
            ],
            "layout": "IPY_MODEL_9aef902db4d448baa7c35da21fc93d1c"
          }
        },
        "727839b550264415a44b657db8dc4988": {
          "model_module": "@jupyter-widgets/controls",
          "model_name": "FloatSliderModel",
          "model_module_version": "1.5.0",
          "state": {
            "_dom_classes": [],
            "_model_module": "@jupyter-widgets/controls",
            "_model_module_version": "1.5.0",
            "_model_name": "FloatSliderModel",
            "_view_count": null,
            "_view_module": "@jupyter-widgets/controls",
            "_view_module_version": "1.5.0",
            "_view_name": "FloatSliderView",
            "continuous_update": true,
            "description": "t",
            "description_tooltip": null,
            "disabled": false,
            "layout": "IPY_MODEL_b513fc4b7ce844c5ad65d869a5206140",
            "max": 1,
            "min": 0,
            "orientation": "horizontal",
            "readout": true,
            "readout_format": ".2f",
            "step": 0.01,
            "style": "IPY_MODEL_36433e8ad7794656b4dcef90a95a59f0",
            "value": 0
          }
        },
        "1573c03de6674fea884bf671305b918b": {
          "model_module": "@jupyter-widgets/output",
          "model_name": "OutputModel",
          "model_module_version": "1.0.0",
          "state": {
            "_dom_classes": [],
            "_model_module": "@jupyter-widgets/output",
            "_model_module_version": "1.0.0",
            "_model_name": "OutputModel",
            "_view_count": null,
            "_view_module": "@jupyter-widgets/output",
            "_view_module_version": "1.0.0",
            "_view_name": "OutputView",
            "layout": "IPY_MODEL_43b77babb1344530837fec878e2899ed",
            "msg_id": "",
            "outputs": []
          }
        },
        "9aef902db4d448baa7c35da21fc93d1c": {
          "model_module": "@jupyter-widgets/base",
          "model_name": "LayoutModel",
          "model_module_version": "1.2.0",
          "state": {
            "_model_module": "@jupyter-widgets/base",
            "_model_module_version": "1.2.0",
            "_model_name": "LayoutModel",
            "_view_count": null,
            "_view_module": "@jupyter-widgets/base",
            "_view_module_version": "1.2.0",
            "_view_name": "LayoutView",
            "align_content": null,
            "align_items": null,
            "align_self": null,
            "border": null,
            "bottom": null,
            "display": null,
            "flex": null,
            "flex_flow": null,
            "grid_area": null,
            "grid_auto_columns": null,
            "grid_auto_flow": null,
            "grid_auto_rows": null,
            "grid_column": null,
            "grid_gap": null,
            "grid_row": null,
            "grid_template_areas": null,
            "grid_template_columns": null,
            "grid_template_rows": null,
            "height": null,
            "justify_content": null,
            "justify_items": null,
            "left": null,
            "margin": null,
            "max_height": null,
            "max_width": null,
            "min_height": null,
            "min_width": null,
            "object_fit": null,
            "object_position": null,
            "order": null,
            "overflow": null,
            "overflow_x": null,
            "overflow_y": null,
            "padding": null,
            "right": null,
            "top": null,
            "visibility": null,
            "width": null
          }
        },
        "b513fc4b7ce844c5ad65d869a5206140": {
          "model_module": "@jupyter-widgets/base",
          "model_name": "LayoutModel",
          "model_module_version": "1.2.0",
          "state": {
            "_model_module": "@jupyter-widgets/base",
            "_model_module_version": "1.2.0",
            "_model_name": "LayoutModel",
            "_view_count": null,
            "_view_module": "@jupyter-widgets/base",
            "_view_module_version": "1.2.0",
            "_view_name": "LayoutView",
            "align_content": null,
            "align_items": null,
            "align_self": null,
            "border": null,
            "bottom": null,
            "display": null,
            "flex": null,
            "flex_flow": null,
            "grid_area": null,
            "grid_auto_columns": null,
            "grid_auto_flow": null,
            "grid_auto_rows": null,
            "grid_column": null,
            "grid_gap": null,
            "grid_row": null,
            "grid_template_areas": null,
            "grid_template_columns": null,
            "grid_template_rows": null,
            "height": null,
            "justify_content": null,
            "justify_items": null,
            "left": null,
            "margin": null,
            "max_height": null,
            "max_width": null,
            "min_height": null,
            "min_width": null,
            "object_fit": null,
            "object_position": null,
            "order": null,
            "overflow": null,
            "overflow_x": null,
            "overflow_y": null,
            "padding": null,
            "right": null,
            "top": null,
            "visibility": null,
            "width": null
          }
        },
        "36433e8ad7794656b4dcef90a95a59f0": {
          "model_module": "@jupyter-widgets/controls",
          "model_name": "SliderStyleModel",
          "model_module_version": "1.5.0",
          "state": {
            "_model_module": "@jupyter-widgets/controls",
            "_model_module_version": "1.5.0",
            "_model_name": "SliderStyleModel",
            "_view_count": null,
            "_view_module": "@jupyter-widgets/base",
            "_view_module_version": "1.2.0",
            "_view_name": "StyleView",
            "description_width": "",
            "handle_color": null
          }
        },
        "43b77babb1344530837fec878e2899ed": {
          "model_module": "@jupyter-widgets/base",
          "model_name": "LayoutModel",
          "model_module_version": "1.2.0",
          "state": {
            "_model_module": "@jupyter-widgets/base",
            "_model_module_version": "1.2.0",
            "_model_name": "LayoutModel",
            "_view_count": null,
            "_view_module": "@jupyter-widgets/base",
            "_view_module_version": "1.2.0",
            "_view_name": "LayoutView",
            "align_content": null,
            "align_items": null,
            "align_self": null,
            "border": null,
            "bottom": null,
            "display": null,
            "flex": null,
            "flex_flow": null,
            "grid_area": null,
            "grid_auto_columns": null,
            "grid_auto_flow": null,
            "grid_auto_rows": null,
            "grid_column": null,
            "grid_gap": null,
            "grid_row": null,
            "grid_template_areas": null,
            "grid_template_columns": null,
            "grid_template_rows": null,
            "height": null,
            "justify_content": null,
            "justify_items": null,
            "left": null,
            "margin": null,
            "max_height": null,
            "max_width": null,
            "min_height": null,
            "min_width": null,
            "object_fit": null,
            "object_position": null,
            "order": null,
            "overflow": null,
            "overflow_x": null,
            "overflow_y": null,
            "padding": null,
            "right": null,
            "top": null,
            "visibility": null,
            "width": null
          }
        }
      }
    }
  },
  "cells": [
    {
      "cell_type": "markdown",
      "metadata": {
        "id": "view-in-github",
        "colab_type": "text"
      },
      "source": [
        "<a href=\"https://colab.research.google.com/github/hamzajaved240/Battery-modeling-pybamm/blob/main/1.Introduction_to_Pybamm.ipynb\" target=\"_parent\"><img src=\"https://colab.research.google.com/assets/colab-badge.svg\" alt=\"Open In Colab\"/></a>"
      ]
    },
    {
      "cell_type": "code",
      "execution_count": 2,
      "metadata": {
        "colab": {
          "base_uri": "https://localhost:8080/"
        },
        "id": "uegMPDIluG-S",
        "outputId": "25a4f6fa-481a-4a38-e556-b9da23e95cf2"
      },
      "outputs": [
        {
          "output_type": "stream",
          "name": "stdout",
          "text": [
            "Collecting pybamm\n",
            "  Downloading pybamm-24.9.0-cp310-cp310-manylinux_2_17_x86_64.manylinux2014_x86_64.whl.metadata (15 kB)\n",
            "Requirement already satisfied: numpy<2.0.0,>=1.23.5 in /usr/local/lib/python3.10/dist-packages (from pybamm) (1.26.4)\n",
            "Requirement already satisfied: scipy>=1.11.4 in /usr/local/lib/python3.10/dist-packages (from pybamm) (1.13.1)\n",
            "Collecting casadi>=3.6.6 (from pybamm)\n",
            "  Downloading casadi-3.6.6-cp310-none-manylinux2014_x86_64.whl.metadata (2.2 kB)\n",
            "Requirement already satisfied: xarray>=2022.6.0 in /usr/local/lib/python3.10/dist-packages (from pybamm) (2024.6.0)\n",
            "Collecting anytree>=2.8.0 (from pybamm)\n",
            "  Downloading anytree-2.12.1-py3-none-any.whl.metadata (8.1 kB)\n",
            "Requirement already satisfied: sympy>=1.12 in /usr/local/lib/python3.10/dist-packages (from pybamm) (1.13.2)\n",
            "Requirement already satisfied: typing-extensions>=4.10.0 in /usr/local/lib/python3.10/dist-packages (from pybamm) (4.12.2)\n",
            "Requirement already satisfied: pandas>=1.5.0 in /usr/local/lib/python3.10/dist-packages (from pybamm) (2.1.4)\n",
            "Requirement already satisfied: pooch>=1.8.1 in /usr/local/lib/python3.10/dist-packages (from pybamm) (1.8.2)\n",
            "Requirement already satisfied: six in /usr/local/lib/python3.10/dist-packages (from anytree>=2.8.0->pybamm) (1.16.0)\n",
            "Requirement already satisfied: python-dateutil>=2.8.2 in /usr/local/lib/python3.10/dist-packages (from pandas>=1.5.0->pybamm) (2.8.2)\n",
            "Requirement already satisfied: pytz>=2020.1 in /usr/local/lib/python3.10/dist-packages (from pandas>=1.5.0->pybamm) (2024.2)\n",
            "Requirement already satisfied: tzdata>=2022.1 in /usr/local/lib/python3.10/dist-packages (from pandas>=1.5.0->pybamm) (2024.1)\n",
            "Requirement already satisfied: platformdirs>=2.5.0 in /usr/local/lib/python3.10/dist-packages (from pooch>=1.8.1->pybamm) (4.3.2)\n",
            "Requirement already satisfied: packaging>=20.0 in /usr/local/lib/python3.10/dist-packages (from pooch>=1.8.1->pybamm) (24.1)\n",
            "Requirement already satisfied: requests>=2.19.0 in /usr/local/lib/python3.10/dist-packages (from pooch>=1.8.1->pybamm) (2.32.3)\n",
            "Requirement already satisfied: mpmath<1.4,>=1.1.0 in /usr/local/lib/python3.10/dist-packages (from sympy>=1.12->pybamm) (1.3.0)\n",
            "Requirement already satisfied: charset-normalizer<4,>=2 in /usr/local/lib/python3.10/dist-packages (from requests>=2.19.0->pooch>=1.8.1->pybamm) (3.3.2)\n",
            "Requirement already satisfied: idna<4,>=2.5 in /usr/local/lib/python3.10/dist-packages (from requests>=2.19.0->pooch>=1.8.1->pybamm) (3.8)\n",
            "Requirement already satisfied: urllib3<3,>=1.21.1 in /usr/local/lib/python3.10/dist-packages (from requests>=2.19.0->pooch>=1.8.1->pybamm) (2.0.7)\n",
            "Requirement already satisfied: certifi>=2017.4.17 in /usr/local/lib/python3.10/dist-packages (from requests>=2.19.0->pooch>=1.8.1->pybamm) (2024.8.30)\n",
            "Downloading pybamm-24.9.0-cp310-cp310-manylinux_2_17_x86_64.manylinux2014_x86_64.whl (16.5 MB)\n",
            "\u001b[2K   \u001b[90m━━━━━━━━━━━━━━━━━━━━━━━━━━━━━━━━━━━━━━━━\u001b[0m \u001b[32m16.5/16.5 MB\u001b[0m \u001b[31m75.2 MB/s\u001b[0m eta \u001b[36m0:00:00\u001b[0m\n",
            "\u001b[?25hDownloading anytree-2.12.1-py3-none-any.whl (44 kB)\n",
            "\u001b[2K   \u001b[90m━━━━━━━━━━━━━━━━━━━━━━━━━━━━━━━━━━━━━━━━\u001b[0m \u001b[32m44.9/44.9 kB\u001b[0m \u001b[31m2.7 MB/s\u001b[0m eta \u001b[36m0:00:00\u001b[0m\n",
            "\u001b[?25hDownloading casadi-3.6.6-cp310-none-manylinux2014_x86_64.whl (75.8 MB)\n",
            "\u001b[2K   \u001b[90m━━━━━━━━━━━━━━━━━━━━━━━━━━━━━━━━━━━━━━━━\u001b[0m \u001b[32m75.8/75.8 MB\u001b[0m \u001b[31m10.4 MB/s\u001b[0m eta \u001b[36m0:00:00\u001b[0m\n",
            "\u001b[?25hInstalling collected packages: casadi, anytree, pybamm\n",
            "Successfully installed anytree-2.12.1 casadi-3.6.6 pybamm-24.9.0\n"
          ]
        }
      ],
      "source": [
        "pip install pybamm"
      ]
    },
    {
      "cell_type": "code",
      "source": [
        "import pybamm\n"
      ],
      "metadata": {
        "id": "SfJkAPfOuhyR"
      },
      "execution_count": 3,
      "outputs": []
    },
    {
      "cell_type": "code",
      "source": [
        "model=pybamm.lithium_ion.DFN()"
      ],
      "metadata": {
        "id": "KaXHENxYuuaz"
      },
      "execution_count": 4,
      "outputs": []
    },
    {
      "cell_type": "code",
      "source": [
        "sim=pybamm.Simulation(model)"
      ],
      "metadata": {
        "id": "jXPOXc4avTe9"
      },
      "execution_count": 5,
      "outputs": []
    },
    {
      "cell_type": "code",
      "source": [
        "sim.solve([0,3600])\n"
      ],
      "metadata": {
        "colab": {
          "base_uri": "https://localhost:8080/"
        },
        "id": "L-CeoC14vwiW",
        "outputId": "b1753647-a799-43d4-9aa9-fa3ef5341196"
      },
      "execution_count": 6,
      "outputs": [
        {
          "output_type": "execute_result",
          "data": {
            "text/plain": [
              "<pybamm.solvers.solution.Solution at 0x7ed726de06a0>"
            ]
          },
          "metadata": {},
          "execution_count": 6
        }
      ]
    },
    {
      "cell_type": "code",
      "source": [
        "sim.plot()"
      ],
      "metadata": {
        "colab": {
          "base_uri": "https://localhost:8080/",
          "height": 749,
          "referenced_widgets": [
            "f247c529cff84d82afaf5cf40b7dffbe",
            "b46cec679a4c471584b15646019660eb",
            "fa176a6ed0484af19704e3e8b61f34ef",
            "82ea74fc9e974d42b4ad9e1a262b0592",
            "048d98789b93435cb148f05e9bcab3e6",
            "d1fb9208ef7f4d9d977d6260010cb5c3",
            "295b8b3247d146089847aef0f810ce39"
          ]
        },
        "id": "CNFkr7nmTb61",
        "outputId": "6c5c57ae-f112-414d-cbc6-75e3625c8b2e"
      },
      "execution_count": 7,
      "outputs": [
        {
          "output_type": "display_data",
          "data": {
            "text/plain": [
              "interactive(children=(FloatSlider(value=0.0, description='t', max=1.0, step=0.01), Output()), _dom_classes=('w…"
            ],
            "application/vnd.jupyter.widget-view+json": {
              "version_major": 2,
              "version_minor": 0,
              "model_id": "f247c529cff84d82afaf5cf40b7dffbe"
            }
          },
          "metadata": {}
        },
        {
          "output_type": "execute_result",
          "data": {
            "text/plain": [
              "<pybamm.plotting.quick_plot.QuickPlot at 0x7ed726de1960>"
            ]
          },
          "metadata": {},
          "execution_count": 7
        },
        {
          "output_type": "display_data",
          "data": {
            "text/plain": [
              "<Figure size 1500x700 with 8 Axes>"
            ],
            "image/png": "[encoded data removed]"
          },
          "metadata": {}
        }
      ]
    },
    {
      "source": [
        "sim.plot(['Current [A]' ,'Terminal voltage [V]']) # Corrected the variable name"
      ],
      "cell_type": "code",
      "metadata": {
        "colab": {
          "base_uri": "https://localhost:8080/",
          "height": 456,
          "referenced_widgets": [
            "a0892d91c2d1466bb4c31e4a28e67d0b",
            "03b52bfe36704a33aa1414ecdc4ebede",
            "b6d6cdf4f86848c08602f3bb761778b2",
            "61b0c92e2d7a4183adc714b7e1c13f49",
            "d6522e6e2c5a4e53aab05f8217d2ecef",
            "9e275004be3b4d31ac77688e99985abf",
            "62ea86742c624fcc9a11751de11b15de"
          ]
        },
        "id": "_SdWOub_VOOp",
        "outputId": "5204d45c-55c7-4217-a2fb-9e42ed8789ce"
      },
      "execution_count": 8,
      "outputs": [
        {
          "output_type": "display_data",
          "data": {
            "text/plain": [
              "interactive(children=(FloatSlider(value=0.0, description='t', max=1.0, step=0.01), Output()), _dom_classes=('w…"
            ],
            "application/vnd.jupyter.widget-view+json": {
              "version_major": 2,
              "version_minor": 0,
              "model_id": "a0892d91c2d1466bb4c31e4a28e67d0b"
            }
          },
          "metadata": {}
        },
        {
          "output_type": "execute_result",
          "data": {
            "text/plain": [
              "<pybamm.plotting.quick_plot.QuickPlot at 0x7ed7240bc310>"
            ]
          },
          "metadata": {},
          "execution_count": 8
        },
        {
          "output_type": "display_data",
          "data": {
            "text/plain": [
              "<Figure size 800x400 with 2 Axes>"
            ],
            "image/png": "[encoded data removed]"
          },
          "metadata": {}
        }
      ]
    },
    {
      "cell_type": "code",
      "source": [
        " model.variable_names()"
      ],
      "metadata": {
        "colab": {
          "base_uri": "https://localhost:8080/"
        },
        "id": "lhnNZgUGc2kr",
        "outputId": "f1ac911d-f84a-4021-d76e-87474c15fada"
      },
      "execution_count": 9,
      "outputs": [
        {
          "output_type": "execute_result",
          "data": {
            "text/plain": [
              "['Time [s]',\n",
              " 'Time [min]',\n",
              " 'Time [h]',\n",
              " 'x [m]',\n",
              " 'x_n [m]',\n",
              " 'x_s [m]',\n",
              " 'x_p [m]',\n",
              " 'r_n [m]',\n",
              " 'r_p [m]',\n",
              " 'Current variable [A]',\n",
              " 'Total current density [A.m-2]',\n",
              " 'Current [A]',\n",
              " 'C-rate',\n",
              " 'Discharge capacity [A.h]',\n",
              " 'Throughput capacity [A.h]',\n",
              " 'Discharge energy [W.h]',\n",
              " 'Throughput energy [W.h]',\n",
              " 'Porosity',\n",
              " 'Negative electrode porosity',\n",
              " 'X-averaged negative electrode porosity',\n",
              " 'Separator porosity',\n",
              " 'X-averaged separator porosity',\n",
              " 'Positive electrode porosity',\n",
              " 'X-averaged positive electrode porosity',\n",
              " 'Porosity change',\n",
              " 'Negative electrode porosity change [s-1]',\n",
              " 'X-averaged negative electrode porosity change [s-1]',\n",
              " 'Separator porosity change [s-1]',\n",
              " 'X-averaged separator porosity change [s-1]',\n",
              " 'Positive electrode porosity change [s-1]',\n",
              " 'X-averaged positive electrode porosity change [s-1]',\n",
              " 'Negative electrode interface utilisation variable',\n",
              " 'X-averaged negative electrode interface utilisation variable',\n",
              " 'Negative electrode interface utilisation',\n",
              " 'X-averaged negative electrode interface utilisation',\n",
              " 'Positive electrode interface utilisation variable',\n",
              " 'X-averaged positive electrode interface utilisation variable',\n",
              " 'Positive electrode interface utilisation',\n",
              " 'X-averaged positive electrode interface utilisation',\n",
              " 'Negative particle crack length [m]',\n",
              " 'X-averaged negative particle crack length [m]',\n",
              " 'Negative particle cracking rate [m.s-1]',\n",
              " 'X-averaged negative particle cracking rate [m.s-1]',\n",
              " 'Positive particle crack length [m]',\n",
              " 'X-averaged positive particle crack length [m]',\n",
              " 'Positive particle cracking rate [m.s-1]',\n",
              " 'X-averaged positive particle cracking rate [m.s-1]',\n",
              " 'Negative electrode active material volume fraction',\n",
              " 'X-averaged negative electrode active material volume fraction',\n",
              " 'Negative electrode capacity [A.h]',\n",
              " 'Negative particle radius',\n",
              " 'Negative particle radius [m]',\n",
              " 'X-averaged negative particle radius [m]',\n",
              " 'Negative electrode surface area to volume ratio [m-1]',\n",
              " 'X-averaged negative electrode surface area to volume ratio [m-1]',\n",
              " 'Negative electrode active material volume fraction change [s-1]',\n",
              " 'X-averaged negative electrode active material volume fraction change [s-1]',\n",
              " 'Loss of lithium due to loss of active material in negative electrode [mol]',\n",
              " 'Positive electrode active material volume fraction',\n",
              " 'X-averaged positive electrode active material volume fraction',\n",
              " 'Positive electrode capacity [A.h]',\n",
              " 'Positive particle radius',\n",
              " 'Positive particle radius [m]',\n",
              " 'X-averaged positive particle radius [m]',\n",
              " 'Positive electrode surface area to volume ratio [m-1]',\n",
              " 'X-averaged positive electrode surface area to volume ratio [m-1]',\n",
              " 'Positive electrode active material volume fraction change [s-1]',\n",
              " 'X-averaged positive electrode active material volume fraction change [s-1]',\n",
              " 'Loss of lithium due to loss of active material in positive electrode [mol]',\n",
              " 'Separator pressure [Pa]',\n",
              " 'X-averaged separator pressure [Pa]',\n",
              " 'negative electrode transverse volume-averaged velocity [m.s-1]',\n",
              " 'X-averaged negative electrode transverse volume-averaged velocity [m.s-1]',\n",
              " 'separator transverse volume-averaged velocity [m.s-1]',\n",
              " 'X-averaged separator transverse volume-averaged velocity [m.s-1]',\n",
              " 'positive electrode transverse volume-averaged velocity [m.s-1]',\n",
              " 'X-averaged positive electrode transverse volume-averaged velocity [m.s-1]',\n",
              " 'Transverse volume-averaged velocity [m.s-1]',\n",
              " 'negative electrode transverse volume-averaged acceleration [m.s-2]',\n",
              " 'X-averaged negative electrode transverse volume-averaged acceleration [m.s-2]',\n",
              " 'separator transverse volume-averaged acceleration [m.s-2]',\n",
              " 'X-averaged separator transverse volume-averaged acceleration [m.s-2]',\n",
              " 'positive electrode transverse volume-averaged acceleration [m.s-2]',\n",
              " 'X-averaged positive electrode transverse volume-averaged acceleration [m.s-2]',\n",
              " 'Transverse volume-averaged acceleration [m.s-2]',\n",
              " 'Negative electrode volume-averaged velocity [m.s-1]',\n",
              " 'Negative electrode volume-averaged acceleration [m.s-2]',\n",
              " 'X-averaged negative electrode volume-averaged acceleration [m.s-2]',\n",
              " 'Negative electrode pressure [Pa]',\n",
              " 'X-averaged negative electrode pressure [Pa]',\n",
              " 'Positive electrode volume-averaged velocity [m.s-1]',\n",
              " 'Positive electrode volume-averaged acceleration [m.s-2]',\n",
              " 'X-averaged positive electrode volume-averaged acceleration [m.s-2]',\n",
              " 'Positive electrode pressure [Pa]',\n",
              " 'X-averaged positive electrode pressure [Pa]',\n",
              " 'Negative particle concentration [mol.m-3]',\n",
              " 'X-averaged negative particle concentration [mol.m-3]',\n",
              " 'R-averaged negative particle concentration [mol.m-3]',\n",
              " 'Average negative particle concentration [mol.m-3]',\n",
              " 'Negative particle surface concentration [mol.m-3]',\n",
              " 'X-averaged negative particle surface concentration [mol.m-3]',\n",
              " 'Minimum negative particle concentration [mol.m-3]',\n",
              " 'Maximum negative particle concentration [mol.m-3]',\n",
              " 'Minimum negative particle Minimum negative particle surface concentration [mol.m-3]',\n",
              " 'Maximum negative particle surface concentration [mol.m-3]',\n",
              " 'Negative particle concentration',\n",
              " 'X-averaged negative particle concentration',\n",
              " 'R-averaged negative particle concentration',\n",
              " 'Average negative particle concentration',\n",
              " 'Negative particle surface concentration',\n",
              " 'X-averaged negative particle surface concentration',\n",
              " 'Minimum negative particle concentration',\n",
              " 'Maximum negative particle concentration',\n",
              " 'Minimum negative particle surface concentration',\n",
              " 'Maximum negative particle surface concentration',\n",
              " 'Negative particle stoichiometry',\n",
              " 'X-averaged negative particle stoichiometry',\n",
              " 'R-averaged negative particle stoichiometry',\n",
              " 'Average negative particle stoichiometry',\n",
              " 'Negative particle surface stoichiometry',\n",
              " 'X-averaged negative particle surface stoichiometry',\n",
              " 'Minimum negative particle stoichiometry',\n",
              " 'Maximum negative particle stoichiometry',\n",
              " 'Minimum negative particle surface stoichiometry',\n",
              " 'Maximum negative particle surface stoichiometry',\n",
              " 'Negative electrode extent of lithiation',\n",
              " 'X-averaged negative electrode extent of lithiation',\n",
              " 'Positive particle concentration [mol.m-3]',\n",
              " 'X-averaged positive particle concentration [mol.m-3]',\n",
              " 'R-averaged positive particle concentration [mol.m-3]',\n",
              " 'Average positive particle concentration [mol.m-3]',\n",
              " 'Positive particle surface concentration [mol.m-3]',\n",
              " 'X-averaged positive particle surface concentration [mol.m-3]',\n",
              " 'Minimum positive particle concentration [mol.m-3]',\n",
              " 'Maximum positive particle concentration [mol.m-3]',\n",
              " 'Minimum positive particle Minimum positive particle surface concentration [mol.m-3]',\n",
              " 'Maximum positive particle surface concentration [mol.m-3]',\n",
              " 'Positive particle concentration',\n",
              " 'X-averaged positive particle concentration',\n",
              " 'R-averaged positive particle concentration',\n",
              " 'Average positive particle concentration',\n",
              " 'Positive particle surface concentration',\n",
              " 'X-averaged positive particle surface concentration',\n",
              " 'Minimum positive particle concentration',\n",
              " 'Maximum positive particle concentration',\n",
              " 'Minimum positive particle surface concentration',\n",
              " 'Maximum positive particle surface concentration',\n",
              " 'Positive particle stoichiometry',\n",
              " 'X-averaged positive particle stoichiometry',\n",
              " 'R-averaged positive particle stoichiometry',\n",
              " 'Average positive particle stoichiometry',\n",
              " 'Positive particle surface stoichiometry',\n",
              " 'X-averaged positive particle surface stoichiometry',\n",
              " 'Minimum positive particle stoichiometry',\n",
              " 'Maximum positive particle stoichiometry',\n",
              " 'Minimum positive particle surface stoichiometry',\n",
              " 'Maximum positive particle surface stoichiometry',\n",
              " 'Positive electrode extent of lithiation',\n",
              " 'X-averaged positive electrode extent of lithiation',\n",
              " 'Negative electrode potential [V]',\n",
              " 'X-averaged negative electrode potential [V]',\n",
              " 'Negative electrode ohmic losses [V]',\n",
              " 'X-averaged negative electrode ohmic losses [V]',\n",
              " 'Gradient of negative electrode potential [V.m-1]',\n",
              " 'Positive electrode potential [V]',\n",
              " 'X-averaged positive electrode potential [V]',\n",
              " 'Positive electrode ohmic losses [V]',\n",
              " 'X-averaged positive electrode ohmic losses [V]',\n",
              " 'Gradient of positive electrode potential [V.m-1]',\n",
              " 'Porosity times concentration [mol.m-3]',\n",
              " 'Negative electrode porosity times concentration [mol.m-3]',\n",
              " 'Separator porosity times concentration [mol.m-3]',\n",
              " 'Positive electrode porosity times concentration [mol.m-3]',\n",
              " 'Total lithium in electrolyte [mol]',\n",
              " 'Electrolyte potential [V]',\n",
              " 'X-averaged electrolyte potential [V]',\n",
              " 'X-averaged electrolyte overpotential [V]',\n",
              " 'Gradient of electrolyte potential [V.m-1]',\n",
              " 'Negative electrolyte potential [V]',\n",
              " 'X-averaged negative electrolyte potential [V]',\n",
              " 'Gradient of negative electrolyte potential [V.m-1]',\n",
              " 'Separator electrolyte potential [V]',\n",
              " 'X-averaged separator electrolyte potential [V]',\n",
              " 'Gradient of separator electrolyte potential [V.m-1]',\n",
              " 'Positive electrolyte potential [V]',\n",
              " 'X-averaged positive electrolyte potential [V]',\n",
              " 'Gradient of positive electrolyte potential [V.m-1]',\n",
              " 'Ambient temperature [K]',\n",
              " 'Volume-averaged ambient temperature [K]',\n",
              " 'Cell temperature [K]',\n",
              " 'Negative current collector temperature [K]',\n",
              " 'Positive current collector temperature [K]',\n",
              " 'X-averaged cell temperature [K]',\n",
              " 'Volume-averaged cell temperature [K]',\n",
              " 'Negative electrode temperature [K]',\n",
              " 'X-averaged negative electrode temperature [K]',\n",
              " 'Separator temperature [K]',\n",
              " 'X-averaged separator temperature [K]',\n",
              " 'Positive electrode temperature [K]',\n",
              " 'X-averaged positive electrode temperature [K]',\n",
              " 'Ambient temperature [C]',\n",
              " 'Volume-averaged ambient temperature [C]',\n",
              " 'Cell temperature [C]',\n",
              " 'Negative current collector temperature [C]',\n",
              " 'Positive current collector temperature [C]',\n",
              " 'X-averaged cell temperature [C]',\n",
              " 'Volume-averaged cell temperature [C]',\n",
              " 'Negative electrode temperature [C]',\n",
              " 'X-averaged negative electrode temperature [C]',\n",
              " 'Separator temperature [C]',\n",
              " 'X-averaged separator temperature [C]',\n",
              " 'Positive electrode temperature [C]',\n",
              " 'X-averaged positive electrode temperature [C]',\n",
              " 'Negative current collector potential [V]',\n",
              " 'Negative inner SEI thickness [m]',\n",
              " 'Negative outer SEI thickness [m]',\n",
              " 'X-averaged negative inner SEI thickness [m]',\n",
              " 'X-averaged negative outer SEI thickness [m]',\n",
              " 'Negative SEI [m]',\n",
              " 'Negative total SEI thickness [m]',\n",
              " 'X-averaged negative SEI thickness [m]',\n",
              " 'X-averaged negative total SEI thickness [m]',\n",
              " 'X-averaged negative electrode resistance [Ohm.m2]',\n",
              " 'Negative electrode inner SEI interfacial current density [A.m-2]',\n",
              " 'X-averaged negative electrode inner SEI interfacial current density [A.m-2]',\n",
              " 'Negative electrode outer SEI interfacial current density [A.m-2]',\n",
              " 'X-averaged negative electrode outer SEI interfacial current density [A.m-2]',\n",
              " 'Negative electrode SEI interfacial current density [A.m-2]',\n",
              " 'X-averaged negative electrode SEI interfacial current density [A.m-2]',\n",
              " 'Positive inner SEI thickness [m]',\n",
              " 'Positive outer SEI thickness [m]',\n",
              " 'X-averaged positive inner SEI thickness [m]',\n",
              " 'X-averaged positive outer SEI thickness [m]',\n",
              " 'Positive SEI [m]',\n",
              " 'Positive total SEI thickness [m]',\n",
              " 'X-averaged positive SEI thickness [m]',\n",
              " 'X-averaged positive total SEI thickness [m]',\n",
              " 'X-averaged positive electrode resistance [Ohm.m2]',\n",
              " 'Positive electrode inner SEI interfacial current density [A.m-2]',\n",
              " 'X-averaged positive electrode inner SEI interfacial current density [A.m-2]',\n",
              " 'Positive electrode outer SEI interfacial current density [A.m-2]',\n",
              " 'X-averaged positive electrode outer SEI interfacial current density [A.m-2]',\n",
              " 'Positive electrode SEI interfacial current density [A.m-2]',\n",
              " 'X-averaged positive electrode SEI interfacial current density [A.m-2]',\n",
              " 'Negative inner SEI on cracks thickness [m]',\n",
              " 'Negative outer SEI on cracks thickness [m]',\n",
              " 'X-averaged negative inner SEI on cracks thickness [m]',\n",
              " 'X-averaged negative outer SEI on cracks thickness [m]',\n",
              " 'Negative SEI on cracks [m]',\n",
              " 'Negative total SEI on cracks thickness [m]',\n",
              " 'X-averaged negative SEI on cracks thickness [m]',\n",
              " 'X-averaged negative total SEI on cracks thickness [m]',\n",
              " 'Negative electrode inner SEI on cracks interfacial current density [A.m-2]',\n",
              " 'X-averaged negative electrode inner SEI on cracks interfacial current density [A.m-2]',\n",
              " 'Negative electrode outer SEI on cracks interfacial current density [A.m-2]',\n",
              " 'X-averaged negative electrode outer SEI on cracks interfacial current density [A.m-2]',\n",
              " 'Negative electrode SEI on cracks interfacial current density [A.m-2]',\n",
              " 'X-averaged negative electrode SEI on cracks interfacial current density [A.m-2]',\n",
              " 'Positive inner SEI on cracks thickness [m]',\n",
              " 'Positive outer SEI on cracks thickness [m]',\n",
              " 'X-averaged positive inner SEI on cracks thickness [m]',\n",
              " 'X-averaged positive outer SEI on cracks thickness [m]',\n",
              " 'Positive SEI on cracks [m]',\n",
              " 'Positive total SEI on cracks thickness [m]',\n",
              " 'X-averaged positive SEI on cracks thickness [m]',\n",
              " 'X-averaged positive total SEI on cracks thickness [m]',\n",
              " 'Positive electrode inner SEI on cracks interfacial current density [A.m-2]',\n",
              " 'X-averaged positive electrode inner SEI on cracks interfacial current density [A.m-2]',\n",
              " 'Positive electrode outer SEI on cracks interfacial current density [A.m-2]',\n",
              " 'X-averaged positive electrode outer SEI on cracks interfacial current density [A.m-2]',\n",
              " 'Positive electrode SEI on cracks interfacial current density [A.m-2]',\n",
              " 'X-averaged positive electrode SEI on cracks interfacial current density [A.m-2]',\n",
              " 'Negative lithium plating concentration [mol.m-3]',\n",
              " 'X-averaged negative lithium plating concentration [mol.m-3]',\n",
              " 'Negative dead lithium concentration [mol.m-3]',\n",
              " 'X-averaged negative dead lithium concentration [mol.m-3]',\n",
              " 'Negative lithium plating thickness [m]',\n",
              " 'X-averaged negative  lithium plating thickness [m]',\n",
              " 'Negative dead lithium thickness [m]',\n",
              " 'X-averaged negative dead lithium thickness [m]',\n",
              " 'Loss of lithium to negative lithium plating [mol]',\n",
              " 'Loss of capacity to negative lithium plating [A.h]',\n",
              " 'Negative electrode lithium plating reaction overpotential [V]',\n",
              " 'X-averaged negative electrode lithium plating reaction overpotential [V]',\n",
              " 'Negative electrode lithium plating interfacial current density [A.m-2]',\n",
              " 'X-averaged negative electrode lithium plating interfacial current density [A.m-2]',\n",
              " 'Positive lithium plating concentration [mol.m-3]',\n",
              " 'X-averaged positive lithium plating concentration [mol.m-3]',\n",
              " 'Positive dead lithium concentration [mol.m-3]',\n",
              " 'X-averaged positive dead lithium concentration [mol.m-3]',\n",
              " 'Positive lithium plating thickness [m]',\n",
              " 'X-averaged positive  lithium plating thickness [m]',\n",
              " 'Positive dead lithium thickness [m]',\n",
              " 'X-averaged positive dead lithium thickness [m]',\n",
              " 'Loss of lithium to positive lithium plating [mol]',\n",
              " 'Loss of capacity to positive lithium plating [A.h]',\n",
              " 'Positive electrode lithium plating reaction overpotential [V]',\n",
              " 'X-averaged positive electrode lithium plating reaction overpotential [V]',\n",
              " 'Positive electrode lithium plating interfacial current density [A.m-2]',\n",
              " 'X-averaged positive electrode lithium plating interfacial current density [A.m-2]',\n",
              " 'Negative crack surface to volume ratio [m-1]',\n",
              " 'Negative electrode roughness ratio',\n",
              " 'X-averaged negative electrode roughness ratio',\n",
              " 'Positive crack surface to volume ratio [m-1]',\n",
              " 'Positive electrode roughness ratio',\n",
              " 'X-averaged positive electrode roughness ratio',\n",
              " 'Electrolyte transport efficiency',\n",
              " 'Negative electrolyte transport efficiency',\n",
              " 'X-averaged negative electrolyte transport efficiency',\n",
              " 'Separator electrolyte transport efficiency',\n",
              " 'X-averaged separator electrolyte transport efficiency',\n",
              " 'Positive electrolyte transport efficiency',\n",
              " 'X-averaged positive electrolyte transport efficiency',\n",
              " 'Electrode transport efficiency',\n",
              " 'Negative electrode transport efficiency',\n",
              " 'X-averaged negative electrode transport efficiency',\n",
              " 'Separator electrode transport efficiency',\n",
              " 'X-averaged separator electrode transport efficiency',\n",
              " 'Positive electrode transport efficiency',\n",
              " 'X-averaged positive electrode transport efficiency',\n",
              " 'Separator volume-averaged velocity [m.s-1]',\n",
              " 'Separator volume-averaged acceleration [m.s-2]',\n",
              " 'X-averaged separator volume-averaged acceleration [m.s-2]',\n",
              " 'Volume-averaged velocity [m.s-1]',\n",
              " 'Volume-averaged acceleration [m.s-1]',\n",
              " 'X-averaged volume-averaged acceleration [m.s-1]',\n",
              " 'Pressure [Pa]',\n",
              " 'Negative electrode stoichiometry',\n",
              " 'Negative electrode volume-averaged concentration',\n",
              " 'Negative electrode volume-averaged concentration [mol.m-3]',\n",
              " 'Total lithium in primary phase in negative electrode [mol]',\n",
              " 'Positive electrode stoichiometry',\n",
              " 'Positive electrode volume-averaged concentration',\n",
              " 'Positive electrode volume-averaged concentration [mol.m-3]',\n",
              " 'Total lithium in primary phase in positive electrode [mol]',\n",
              " 'Negative electrode effective conductivity',\n",
              " 'Negative electrode current density [A.m-2]',\n",
              " 'Positive electrode effective conductivity',\n",
              " 'Positive electrode current density [A.m-2]',\n",
              " 'Electrode current density [A.m-2]',\n",
              " 'Positive current collector potential [V]',\n",
              " 'Local voltage [V]',\n",
              " 'Terminal voltage [V]',\n",
              " 'Voltage [V]',\n",
              " 'Contact overpotential [V]',\n",
              " 'Electrolyte concentration concatenation [mol.m-3]',\n",
              " 'Negative electrolyte concentration [mol.m-3]',\n",
              " 'X-averaged negative electrolyte concentration [mol.m-3]',\n",
              " 'Separator electrolyte concentration [mol.m-3]',\n",
              " 'X-averaged separator electrolyte concentration [mol.m-3]',\n",
              " 'Positive electrolyte concentration [mol.m-3]',\n",
              " 'X-averaged positive electrolyte concentration [mol.m-3]',\n",
              " 'Negative electrolyte concentration [Molar]',\n",
              " 'X-averaged negative electrolyte concentration [Molar]',\n",
              " 'Separator electrolyte concentration [Molar]',\n",
              " 'X-averaged separator electrolyte concentration [Molar]',\n",
              " 'Positive electrolyte concentration [Molar]',\n",
              " 'X-averaged positive electrolyte concentration [Molar]',\n",
              " 'Electrolyte concentration [mol.m-3]',\n",
              " 'X-averaged electrolyte concentration [mol.m-3]',\n",
              " 'Electrolyte concentration [Molar]',\n",
              " 'X-averaged electrolyte concentration [Molar]',\n",
              " 'Electrolyte current density [A.m-2]',\n",
              " 'X-averaged concentration overpotential [V]',\n",
              " 'X-averaged electrolyte ohmic losses [V]',\n",
              " 'Negative electrode surface potential difference [V]',\n",
              " 'Negative electrode surface potential difference at separator interface [V]',\n",
              " 'X-averaged negative electrode surface potential difference [V]',\n",
              " 'Positive electrode surface potential difference [V]',\n",
              " 'Positive electrode surface potential difference at separator interface [V]',\n",
              " 'X-averaged positive electrode surface potential difference [V]',\n",
              " 'Ohmic heating [W.m-3]',\n",
              " 'X-averaged Ohmic heating [W.m-3]',\n",
              " 'Volume-averaged Ohmic heating [W.m-3]',\n",
              " 'Ohmic heating per unit electrode-pair area [W.m-2]',\n",
              " 'Ohmic heating [W]',\n",
              " 'Irreversible electrochemical heating [W.m-3]',\n",
              " 'X-averaged irreversible electrochemical heating [W.m-3]',\n",
              " 'Volume-averaged irreversible electrochemical heating [W.m-3]',\n",
              " 'Irreversible electrochemical heating per unit electrode-pair area [W.m-2]',\n",
              " 'Irreversible electrochemical heating [W]',\n",
              " 'Reversible heating [W.m-3]',\n",
              " 'X-averaged reversible heating [W.m-3]',\n",
              " 'Volume-averaged reversible heating [W.m-3]',\n",
              " 'Reversible heating per unit electrode-pair area [W.m-2]',\n",
              " 'Reversible heating [W]',\n",
              " 'Total heating [W.m-3]',\n",
              " 'X-averaged total heating [W.m-3]',\n",
              " 'Volume-averaged total heating [W.m-3]',\n",
              " 'Total heating per unit electrode-pair area [W.m-2]',\n",
              " 'Total heating [W]',\n",
              " 'Negative current collector Ohmic heating [W.m-3]',\n",
              " 'Positive current collector Ohmic heating [W.m-3]',\n",
              " 'Surface total cooling [W.m-3]',\n",
              " 'Surface total cooling [W]',\n",
              " 'Surface temperature [K]',\n",
              " 'Volume-averaged surface temperature [K]',\n",
              " 'Environment total cooling [W]',\n",
              " 'Current collector current density [A.m-2]',\n",
              " 'Negative inner SEI concentration [mol.m-3]',\n",
              " 'X-averaged negative inner SEI concentration [mol.m-3]',\n",
              " 'Negative outer SEI concentration [mol.m-3]',\n",
              " 'X-averaged negative outer SEI concentration [mol.m-3]',\n",
              " 'Negative SEI concentration [mol.m-3]',\n",
              " 'X-averaged negative SEI concentration [mol.m-3]',\n",
              " 'Loss of lithium to negative SEI [mol]',\n",
              " 'Loss of capacity to negative SEI [A.h]',\n",
              " 'Negative electrode SEI volumetric interfacial current density [A.m-3]',\n",
              " 'X-averaged negative electrode SEI volumetric interfacial current density [A.m-3]',\n",
              " 'Positive inner SEI concentration [mol.m-3]',\n",
              " 'X-averaged positive inner SEI concentration [mol.m-3]',\n",
              " 'Positive outer SEI concentration [mol.m-3]',\n",
              " 'X-averaged positive outer SEI concentration [mol.m-3]',\n",
              " 'Positive SEI concentration [mol.m-3]',\n",
              " 'X-averaged positive SEI concentration [mol.m-3]',\n",
              " 'Loss of lithium to positive SEI [mol]',\n",
              " 'Loss of capacity to positive SEI [A.h]',\n",
              " 'Positive electrode SEI volumetric interfacial current density [A.m-3]',\n",
              " 'X-averaged positive electrode SEI volumetric interfacial current density [A.m-3]',\n",
              " 'Negative inner SEI on cracks concentration [mol.m-3]',\n",
              " 'X-averaged negative inner SEI on cracks concentration [mol.m-3]',\n",
              " 'Negative outer SEI on cracks concentration [mol.m-3]',\n",
              " 'X-averaged negative outer SEI on cracks concentration [mol.m-3]',\n",
              " 'Negative SEI on cracks concentration [mol.m-3]',\n",
              " 'X-averaged negative SEI on cracks concentration [mol.m-3]',\n",
              " 'Loss of lithium to negative SEI on cracks [mol]',\n",
              " 'Loss of capacity to negative SEI on cracks [A.h]',\n",
              " 'Negative electrode SEI on cracks volumetric interfacial current density [A.m-3]',\n",
              " 'X-averaged negative electrode SEI on cracks volumetric interfacial current density [A.m-3]',\n",
              " 'Positive inner SEI on cracks concentration [mol.m-3]',\n",
              " 'X-averaged positive inner SEI on cracks concentration [mol.m-3]',\n",
              " 'Positive outer SEI on cracks concentration [mol.m-3]',\n",
              " 'X-averaged positive outer SEI on cracks concentration [mol.m-3]',\n",
              " 'Positive SEI on cracks concentration [mol.m-3]',\n",
              " 'X-averaged positive SEI on cracks concentration [mol.m-3]',\n",
              " 'Loss of lithium to positive SEI on cracks [mol]',\n",
              " 'Loss of capacity to positive SEI on cracks [A.h]',\n",
              " 'Positive electrode SEI on cracks volumetric interfacial current density [A.m-3]',\n",
              " 'X-averaged positive electrode SEI on cracks volumetric interfacial current density [A.m-3]',\n",
              " 'Negative electrode lithium plating volumetric interfacial current density [A.m-3]',\n",
              " 'X-averaged negative electrode lithium plating volumetric interfacial current density [A.m-3]',\n",
              " 'Positive electrode lithium plating volumetric interfacial current density [A.m-3]',\n",
              " 'X-averaged positive electrode lithium plating volumetric interfacial current density [A.m-3]',\n",
              " 'Negative electrode open-circuit potential [V]',\n",
              " 'X-averaged negative electrode open-circuit potential [V]',\n",
              " 'Negative electrode bulk open-circuit potential [V]',\n",
              " 'Negative particle concentration overpotential [V]',\n",
              " 'Negative electrode entropic change [V.K-1]',\n",
              " 'X-averaged negative electrode entropic change [V.K-1]',\n",
              " 'Positive electrode open-circuit potential [V]',\n",
              " 'X-averaged positive electrode open-circuit potential [V]',\n",
              " 'Positive electrode bulk open-circuit potential [V]',\n",
              " 'Positive particle concentration overpotential [V]',\n",
              " 'Positive electrode entropic change [V.K-1]',\n",
              " 'X-averaged positive electrode entropic change [V.K-1]',\n",
              " 'Negative electrode interfacial current density [A.m-2]',\n",
              " 'X-averaged negative electrode interfacial current density [A.m-2]',\n",
              " 'X-averaged negative electrode total interfacial current density [A.m-2]',\n",
              " 'X-averaged negative electrode total volumetric interfacial current density [A.m-3]',\n",
              " 'Negative electrode exchange current density [A.m-2]',\n",
              " 'X-averaged negative electrode exchange current density [A.m-2]',\n",
              " 'Negative electrode reaction overpotential [V]',\n",
              " 'X-averaged negative electrode reaction overpotential [V]',\n",
              " 'Negative electrode volumetric interfacial current density [A.m-3]',\n",
              " 'X-averaged negative electrode volumetric interfacial current density [A.m-3]',\n",
              " 'Negative electrode SEI film overpotential [V]',\n",
              " 'X-averaged negative electrode SEI film overpotential [V]',\n",
              " 'Positive electrode interfacial current density [A.m-2]',\n",
              " 'X-averaged positive electrode interfacial current density [A.m-2]',\n",
              " 'X-averaged positive electrode total interfacial current density [A.m-2]',\n",
              " 'X-averaged positive electrode total volumetric interfacial current density [A.m-3]',\n",
              " 'Positive electrode exchange current density [A.m-2]',\n",
              " 'X-averaged positive electrode exchange current density [A.m-2]',\n",
              " 'Positive electrode reaction overpotential [V]',\n",
              " 'X-averaged positive electrode reaction overpotential [V]',\n",
              " 'Positive electrode volumetric interfacial current density [A.m-3]',\n",
              " 'X-averaged positive electrode volumetric interfacial current density [A.m-3]',\n",
              " 'Positive electrode SEI film overpotential [V]',\n",
              " 'X-averaged positive electrode SEI film overpotential [V]',\n",
              " 'Negative particle rhs [mol.m-3.s-1]',\n",
              " 'Negative particle bc [mol.m-4]',\n",
              " 'Negative particle effective diffusivity [m2.s-1]',\n",
              " 'X-averaged negative particle effective diffusivity [m2.s-1]',\n",
              " 'Volume-averaged negative particle effective diffusivity [m2.s-1]',\n",
              " 'Negative particle flux [mol.m-2.s-1]',\n",
              " 'Positive particle rhs [mol.m-3.s-1]',\n",
              " 'Positive particle bc [mol.m-4]',\n",
              " 'Positive particle effective diffusivity [m2.s-1]',\n",
              " 'X-averaged positive particle effective diffusivity [m2.s-1]',\n",
              " 'Volume-averaged positive particle effective diffusivity [m2.s-1]',\n",
              " 'Positive particle flux [mol.m-2.s-1]',\n",
              " 'Electrolyte flux [mol.m-2.s-1]',\n",
              " 'Electrolyte diffusion flux [mol.m-2.s-1]',\n",
              " 'Electrolyte migration flux [mol.m-2.s-1]',\n",
              " 'Electrolyte convection flux [mol.m-2.s-1]',\n",
              " 'Sum of negative electrode electrolyte reaction source terms [A.m-3]',\n",
              " 'Sum of x-averaged negative electrode electrolyte reaction source terms [A.m-3]',\n",
              " 'Sum of negative electrode volumetric interfacial current densities [A.m-3]',\n",
              " 'Sum of x-averaged negative electrode volumetric interfacial current densities [A.m-3]',\n",
              " 'Sum of positive electrode electrolyte reaction source terms [A.m-3]',\n",
              " 'Sum of x-averaged positive electrode electrolyte reaction source terms [A.m-3]',\n",
              " 'Sum of positive electrode volumetric interfacial current densities [A.m-3]',\n",
              " 'Sum of x-averaged positive electrode volumetric interfacial current densities [A.m-3]',\n",
              " 'Interfacial current density [A.m-2]',\n",
              " 'Exchange current density [A.m-2]',\n",
              " 'Sum of volumetric interfacial current densities [A.m-3]',\n",
              " 'Sum of electrolyte reaction source terms [A.m-3]',\n",
              " 'Surface open-circuit voltage [V]',\n",
              " 'Bulk open-circuit voltage [V]',\n",
              " 'Particle concentration overpotential [V]',\n",
              " 'X-averaged reaction overpotential [V]',\n",
              " 'X-averaged SEI film overpotential [V]',\n",
              " 'X-averaged solid phase ohmic losses [V]',\n",
              " 'Battery open-circuit voltage [V]',\n",
              " 'Battery negative electrode bulk open-circuit potential [V]',\n",
              " 'Battery positive electrode bulk open-circuit potential [V]',\n",
              " 'Battery particle concentration overpotential [V]',\n",
              " 'Battery negative particle concentration overpotential [V]',\n",
              " 'Battery positive particle concentration overpotential [V]',\n",
              " 'X-averaged battery reaction overpotential [V]',\n",
              " 'X-averaged battery negative reaction overpotential [V]',\n",
              " 'X-averaged battery positive reaction overpotential [V]',\n",
              " 'X-averaged battery solid phase ohmic losses [V]',\n",
              " 'X-averaged battery negative solid phase ohmic losses [V]',\n",
              " 'X-averaged battery positive solid phase ohmic losses [V]',\n",
              " 'X-averaged battery electrolyte ohmic losses [V]',\n",
              " 'X-averaged battery concentration overpotential [V]',\n",
              " 'Battery voltage [V]',\n",
              " 'Local ECM resistance [Ohm]',\n",
              " 'Terminal power [W]',\n",
              " 'Power [W]',\n",
              " 'Resistance [Ohm]',\n",
              " 'Total lithium in negative electrode [mol]',\n",
              " 'LAM_ne [%]',\n",
              " 'Loss of active material in negative electrode [%]',\n",
              " 'Total lithium in positive electrode [mol]',\n",
              " 'LAM_pe [%]',\n",
              " 'Loss of active material in positive electrode [%]',\n",
              " 'LLI [%]',\n",
              " 'Loss of lithium inventory [%]',\n",
              " 'Loss of lithium inventory, including electrolyte [%]',\n",
              " 'Total lithium [mol]',\n",
              " 'Total lithium in particles [mol]',\n",
              " 'Total lithium capacity [A.h]',\n",
              " 'Total lithium capacity in particles [A.h]',\n",
              " 'Total lithium lost [mol]',\n",
              " 'Total lithium lost from particles [mol]',\n",
              " 'Total lithium lost from electrolyte [mol]',\n",
              " 'Total lithium lost to side reactions [mol]',\n",
              " 'Total capacity lost to side reactions [A.h]']"
            ]
          },
          "metadata": {},
          "execution_count": 9
        }
      ]
    },
    {
      "cell_type": "code",
      "source": [
        "model.variables.search('electrolyte')"
      ],
      "metadata": {
        "colab": {
          "base_uri": "https://localhost:8080/"
        },
        "id": "g0xLMbxuda-E",
        "outputId": "706f153b-49a4-4058-a8e0-7b301f1e607e"
      },
      "execution_count": 10,
      "outputs": [
        {
          "output_type": "stream",
          "name": "stdout",
          "text": [
            "Electrolyte concentration [Molar]\n",
            "Electrolyte concentration [mol.m-3]\n",
            "Electrolyte concentration concatenation [mol.m-3]\n",
            "Electrolyte convection flux [mol.m-2.s-1]\n",
            "Electrolyte current density [A.m-2]\n",
            "Electrolyte diffusion flux [mol.m-2.s-1]\n",
            "Electrolyte flux [mol.m-2.s-1]\n",
            "Electrolyte migration flux [mol.m-2.s-1]\n",
            "Electrolyte potential [V]\n",
            "Electrolyte transport efficiency\n",
            "Gradient of electrolyte potential [V.m-1]\n",
            "Gradient of negative electrolyte potential [V.m-1]\n",
            "Gradient of positive electrolyte potential [V.m-1]\n",
            "Gradient of separator electrolyte potential [V.m-1]\n",
            "Loss of lithium inventory, including electrolyte [%]\n",
            "Negative electrolyte concentration [Molar]\n",
            "Negative electrolyte concentration [mol.m-3]\n",
            "Negative electrolyte potential [V]\n",
            "Negative electrolyte transport efficiency\n",
            "Positive electrolyte concentration [Molar]\n",
            "Positive electrolyte concentration [mol.m-3]\n",
            "Positive electrolyte potential [V]\n",
            "Positive electrolyte transport efficiency\n",
            "Separator electrolyte concentration [Molar]\n",
            "Separator electrolyte concentration [mol.m-3]\n",
            "Separator electrolyte potential [V]\n",
            "Separator electrolyte transport efficiency\n",
            "Sum of electrolyte reaction source terms [A.m-3]\n",
            "Sum of negative electrode electrolyte reaction source terms [A.m-3]\n",
            "Sum of positive electrode electrolyte reaction source terms [A.m-3]\n",
            "Sum of x-averaged negative electrode electrolyte reaction source terms [A.m-3]\n",
            "Sum of x-averaged positive electrode electrolyte reaction source terms [A.m-3]\n",
            "Total lithium in electrolyte [mol]\n",
            "Total lithium lost from electrolyte [mol]\n",
            "X-averaged battery electrolyte ohmic losses [V]\n",
            "X-averaged electrolyte concentration [Molar]\n",
            "X-averaged electrolyte concentration [mol.m-3]\n",
            "X-averaged electrolyte ohmic losses [V]\n",
            "X-averaged electrolyte overpotential [V]\n",
            "X-averaged electrolyte potential [V]\n",
            "X-averaged negative electrolyte concentration [Molar]\n",
            "X-averaged negative electrolyte concentration [mol.m-3]\n",
            "X-averaged negative electrolyte potential [V]\n",
            "X-averaged negative electrolyte transport efficiency\n",
            "X-averaged positive electrolyte concentration [Molar]\n",
            "X-averaged positive electrolyte concentration [mol.m-3]\n",
            "X-averaged positive electrolyte potential [V]\n",
            "X-averaged positive electrolyte transport efficiency\n",
            "X-averaged separator electrolyte concentration [Molar]\n",
            "X-averaged separator electrolyte concentration [mol.m-3]\n",
            "X-averaged separator electrolyte potential [V]\n",
            "X-averaged separator electrolyte transport efficiency\n"
          ]
        }
      ]
    },
    {
      "source": [
        "sim.plot([['Electrolyte current density [A.m-2]','Electrode current density [A.m-2]'],'Terminal voltage [V]']) # Added missing space in 'Electrode current density [A.m-2]'"
      ],
      "cell_type": "code",
      "metadata": {
        "colab": {
          "base_uri": "https://localhost:8080/",
          "height": 456,
          "referenced_widgets": [
            "63152f5d7fa549018c8d9b6a941ccb23",
            "727839b550264415a44b657db8dc4988",
            "1573c03de6674fea884bf671305b918b",
            "9aef902db4d448baa7c35da21fc93d1c",
            "b513fc4b7ce844c5ad65d869a5206140",
            "36433e8ad7794656b4dcef90a95a59f0",
            "43b77babb1344530837fec878e2899ed"
          ]
        },
        "id": "8zfJC7ocl1eA",
        "outputId": "4e7d2a7b-537b-4bbb-c3e9-1b584845569e"
      },
      "execution_count": 11,
      "outputs": [
        {
          "output_type": "display_data",
          "data": {
            "text/plain": [
              "interactive(children=(FloatSlider(value=0.0, description='t', max=1.0, step=0.01), Output()), _dom_classes=('w…"
            ],
            "application/vnd.jupyter.widget-view+json": {
              "version_major": 2,
              "version_minor": 0,
              "model_id": "63152f5d7fa549018c8d9b6a941ccb23"
            }
          },
          "metadata": {}
        },
        {
          "output_type": "execute_result",
          "data": {
            "text/plain": [
              "<pybamm.plotting.quick_plot.QuickPlot at 0x7ed7240bc2b0>"
            ]
          },
          "metadata": {},
          "execution_count": 11
        },
        {
          "output_type": "display_data",
          "data": {
            "text/plain": [
              "<Figure size 800x400 with 2 Axes>"
            ],
            "image/png": "[encoded data removed]"
          },
          "metadata": {}
        }
      ]
    },
    {
      "cell_type": "code",
      "source": [
        "solution=sim.solution"
      ],
      "metadata": {
        "id": "IIJTqMfvPTrk"
      },
      "execution_count": 12,
      "outputs": []
    },
    {
      "cell_type": "code",
      "source": [
        "V=solution['Terminal voltage [V]']"
      ],
      "metadata": {
        "id": "4hKJ5N_-PuX7"
      },
      "execution_count": 13,
      "outputs": []
    },
    {
      "cell_type": "code",
      "source": [
        "V(t=1800)"
      ],
      "metadata": {
        "colab": {
          "base_uri": "https://localhost:8080/"
        },
        "id": "W_IzTOGuQCgR",
        "outputId": "235d816a-fc23-4757-fb69-c809bf57141e"
      },
      "execution_count": 14,
      "outputs": [
        {
          "output_type": "execute_result",
          "data": {
            "text/plain": [
              "array(3.61322234)"
            ]
          },
          "metadata": {},
          "execution_count": 14
        }
      ]
    },
    {
      "cell_type": "code",
      "source": [
        "V.data"
      ],
      "metadata": {
        "colab": {
          "base_uri": "https://localhost:8080/"
        },
        "id": "-GkdppzQQWiY",
        "outputId": "ee52d0f5-8455-43ad-bbe2-16ed5bdc08a9"
      },
      "execution_count": 15,
      "outputs": [
        {
          "output_type": "execute_result",
          "data": {
            "text/plain": [
              "array([3.77171339, 3.75516587, 3.74812906, 3.74295912, 3.73841299,\n",
              "       3.73414086, 3.73003195, 3.72604814, 3.72217635, 3.71841202,\n",
              "       3.71475433, 3.7112027 , 3.70775565, 3.70440899, 3.70115998,\n",
              "       3.6979956 , 3.69491065, 3.69189635, 3.68894916, 3.68606885,\n",
              "       3.68325647, 3.68051305, 3.67783908, 3.67523423, 3.67269777,\n",
              "       3.67022803, 3.66782366, 3.66548142, 3.66319921, 3.66097349,\n",
              "       3.65880115, 3.65667762, 3.65459906, 3.65256033, 3.65055538,\n",
              "       3.64857777, 3.64661933, 3.64466934, 3.64271347, 3.64073312,\n",
              "       3.63869716, 3.63656003, 3.63425272, 3.63169433, 3.62884763,\n",
              "       3.62578209, 3.62265135, 3.61962441, 3.61682836, 3.61432563,\n",
              "       3.61211905, 3.61017429, 3.60844312, 3.60688061, 3.60545036,\n",
              "       3.60412587, 3.6028897 , 3.60172897, 3.60063626, 3.5996056 ,\n",
              "       3.59863225, 3.5977077 , 3.59681581, 3.59593436, 3.59504122,\n",
              "       3.5941228 , 3.59317326, 3.59219103, 3.59117637, 3.59012976,\n",
              "       3.58905127, 3.58794021, 3.58679538, 3.58561403, 3.5843925 ,\n",
              "       3.5831249 , 3.58180309, 3.58041594, 3.57894791, 3.57737863,\n",
              "       3.57568168, 3.57382408, 3.57176438, 3.56945193, 3.56682146,\n",
              "       3.5637877 , 3.56023757, 3.55602951, 3.55100053, 3.54495898,\n",
              "       3.53764272, 3.52863951, 3.51725639, 3.50232009, 3.48194122,\n",
              "       3.45339355, 3.41317206, 3.35689141, 3.27883582, 3.17159407])"
            ]
          },
          "metadata": {},
          "execution_count": 15
        }
      ]
    },
    {
      "cell_type": "code",
      "source": [
        "solution['Electrolyte current density [A.m-2]']"
      ],
      "metadata": {
        "colab": {
          "base_uri": "https://localhost:8080/"
        },
        "id": "K8X307SUQbq9",
        "outputId": "2af14b7c-380f-47ad-cd7b-9d93df3d294a"
      },
      "execution_count": 16,
      "outputs": [
        {
          "output_type": "execute_result",
          "data": {
            "text/plain": [
              "<pybamm.solvers.processed_variable.ProcessedVariable at 0x7ed7240bc5b0>"
            ]
          },
          "metadata": {},
          "execution_count": 16
        }
      ]
    },
    {
      "cell_type": "code",
      "source": [
        "solution['Electrolyte current density [A.m-2]'].data"
      ],
      "metadata": {
        "colab": {
          "base_uri": "https://localhost:8080/"
        },
        "id": "vH6KGcMLQnwz",
        "outputId": "9fc3c287-399b-4bed-cd3b-b22a142a079a"
      },
      "execution_count": 17,
      "outputs": [
        {
          "output_type": "execute_result",
          "data": {
            "text/plain": [
              "array([[0.        , 0.        , 0.        , ..., 0.        , 0.        ,\n",
              "        0.        ],\n",
              "       [0.82447423, 0.72769879, 0.68886178, ..., 1.49016763, 1.45683092,\n",
              "        1.42773901],\n",
              "       [1.65355095, 1.46063636, 1.38344896, ..., 2.97240883, 2.90671911,\n",
              "        2.84938245],\n",
              "       ...,\n",
              "       [2.29200358, 2.21945674, 2.21132767, ..., 3.10386868, 2.93372103,\n",
              "        2.79310322],\n",
              "       [1.14584342, 1.10928488, 1.10515471, ..., 1.55497734, 1.46910934,\n",
              "        1.39818279],\n",
              "       [0.        , 0.        , 0.        , ..., 0.        , 0.        ,\n",
              "        0.        ]])"
            ]
          },
          "metadata": {},
          "execution_count": 17
        }
      ]
    },
    {
      "cell_type": "code",
      "source": [
        "solution.save_data(\"dfn_data.csv\",[\"Time [s]\",\"Terminal voltage [V]\"])"
      ],
      "metadata": {
        "id": "dqY9pVi8UDiJ"
      },
      "execution_count": 18,
      "outputs": []
    },
    {
      "cell_type": "code",
      "source": [
        "import matplotlib.pyplot as plt"
      ],
      "metadata": {
        "id": "D7MlI-wbVKOK"
      },
      "execution_count": 19,
      "outputs": []
    },
    {
      "cell_type": "code",
      "source": [
        "fig, ax = plt.subplots()\n",
        "discharge_capacity=solution[\"Discharge capacity [A.h]\"].data\n",
        "ax.plot(discharge_capacity,V.data)\n",
        "ax.set_xlabel(\"Time [s]\")\n",
        "ax.set_ylabel(\"Discharge capacity [A.h]\")"
      ],
      "metadata": {
        "colab": {
          "base_uri": "https://localhost:8080/",
          "height": 471
        },
        "id": "wzh1IOGoVY-g",
        "outputId": "ef343cc3-e31e-418f-f77a-04e2e99ea769"
      },
      "execution_count": 20,
      "outputs": [
        {
          "output_type": "execute_result",
          "data": {
            "text/plain": [
              "Text(0, 0.5, 'Discharge capacity [A.h]')"
            ]
          },
          "metadata": {},
          "execution_count": 20
        },
        {
          "output_type": "display_data",
          "data": {
            "text/plain": [
              "<Figure size 640x480 with 1 Axes>"
            ],
            "image/png": "[encoded data removed]"
          },
          "metadata": {}
        }
      ]
    },
    {
      "cell_type": "code",
      "source": [
        "sim.plot_voltage_components()"
      ],
      "metadata": {
        "colab": {
          "base_uri": "https://localhost:8080/",
          "height": 443
        },
        "id": "mjvS3ENijgbh",
        "outputId": "fd17b9eb-9460-48a1-ed89-8fe0956d1568"
      },
      "execution_count": 21,
      "outputs": [
        {
          "output_type": "display_data",
          "data": {
            "text/plain": [
              "<Figure size 800x400 with 1 Axes>"
            ],
            "image/png": "[encoded data removed]"
          },
          "metadata": {}
        },
        {
          "output_type": "execute_result",
          "data": {
            "text/plain": [
              "(<Figure size 800x400 with 1 Axes>, <Axes: xlabel='Time [h]'>)"
            ]
          },
          "metadata": {},
          "execution_count": 21
        }
      ]
    }
  ]
}