{
  "nbformat": 4,
  "nbformat_minor": 0,
  "metadata": {
    "colab": {
      "provenance": [],
      "authorship_tag": "ABX9TyO0Kczy0YKkTwEPlfVuvo6l",
      "include_colab_link": true
    },
    "kernelspec": {
      "name": "python3",
      "display_name": "Python 3"
    },
    "language_info": {
      "name": "python"
    }
  },
  "cells": [
    {
      "cell_type": "markdown",
      "metadata": {
        "id": "view-in-github",
        "colab_type": "text"
      },
      "source": [
        "<a href=\"https://colab.research.google.com/github/hamzajaved240/Battery-modeling-pybamm/blob/main/5.Introduction_to_submodels.ipynb\" target=\"_parent\"><img src=\"https://colab.research.google.com/assets/colab-badge.svg\" alt=\"Open In Colab\"/></a>"
      ]
    },
    {
      "cell_type": "code",
      "execution_count": 1,
      "metadata": {
        "colab": {
          "base_uri": "https://localhost:8080/"
        },
        "id": "UAtrxIfNidkj",
        "outputId": "be4ce620-5f82-412f-8f85-491963c26026"
      },
      "outputs": [
        {
          "output_type": "stream",
          "name": "stdout",
          "text": [
            "Collecting pybamm\n",
            "  Downloading pybamm-24.9.0-cp310-cp310-manylinux_2_17_x86_64.manylinux2014_x86_64.whl.metadata (15 kB)\n",
            "Requirement already satisfied: numpy<2.0.0,>=1.23.5 in /usr/local/lib/python3.10/dist-packages (from pybamm) (1.26.4)\n",
            "Requirement already satisfied: scipy>=1.11.4 in /usr/local/lib/python3.10/dist-packages (from pybamm) (1.13.1)\n",
            "Collecting casadi>=3.6.6 (from pybamm)\n",
            "  Downloading casadi-3.6.6-cp310-none-manylinux2014_x86_64.whl.metadata (2.2 kB)\n",
            "Requirement already satisfied: xarray>=2022.6.0 in /usr/local/lib/python3.10/dist-packages (from pybamm) (2024.6.0)\n",
            "Collecting anytree>=2.8.0 (from pybamm)\n",
            "  Downloading anytree-2.12.1-py3-none-any.whl.metadata (8.1 kB)\n",
            "Requirement already satisfied: sympy>=1.12 in /usr/local/lib/python3.10/dist-packages (from pybamm) (1.13.2)\n",
            "Requirement already satisfied: typing-extensions>=4.10.0 in /usr/local/lib/python3.10/dist-packages (from pybamm) (4.12.2)\n",
            "Requirement already satisfied: pandas>=1.5.0 in /usr/local/lib/python3.10/dist-packages (from pybamm) (2.1.4)\n",
            "Requirement already satisfied: pooch>=1.8.1 in /usr/local/lib/python3.10/dist-packages (from pybamm) (1.8.2)\n",
            "Requirement already satisfied: six in /usr/local/lib/python3.10/dist-packages (from anytree>=2.8.0->pybamm) (1.16.0)\n",
            "Requirement already satisfied: python-dateutil>=2.8.2 in /usr/local/lib/python3.10/dist-packages (from pandas>=1.5.0->pybamm) (2.8.2)\n",
            "Requirement already satisfied: pytz>=2020.1 in /usr/local/lib/python3.10/dist-packages (from pandas>=1.5.0->pybamm) (2024.2)\n",
            "Requirement already satisfied: tzdata>=2022.1 in /usr/local/lib/python3.10/dist-packages (from pandas>=1.5.0->pybamm) (2024.1)\n",
            "Requirement already satisfied: platformdirs>=2.5.0 in /usr/local/lib/python3.10/dist-packages (from pooch>=1.8.1->pybamm) (4.3.2)\n",
            "Requirement already satisfied: packaging>=20.0 in /usr/local/lib/python3.10/dist-packages (from pooch>=1.8.1->pybamm) (24.1)\n",
            "Requirement already satisfied: requests>=2.19.0 in /usr/local/lib/python3.10/dist-packages (from pooch>=1.8.1->pybamm) (2.32.3)\n",
            "Requirement already satisfied: mpmath<1.4,>=1.1.0 in /usr/local/lib/python3.10/dist-packages (from sympy>=1.12->pybamm) (1.3.0)\n",
            "Requirement already satisfied: charset-normalizer<4,>=2 in /usr/local/lib/python3.10/dist-packages (from requests>=2.19.0->pooch>=1.8.1->pybamm) (3.3.2)\n",
            "Requirement already satisfied: idna<4,>=2.5 in /usr/local/lib/python3.10/dist-packages (from requests>=2.19.0->pooch>=1.8.1->pybamm) (3.8)\n",
            "Requirement already satisfied: urllib3<3,>=1.21.1 in /usr/local/lib/python3.10/dist-packages (from requests>=2.19.0->pooch>=1.8.1->pybamm) (2.0.7)\n",
            "Requirement already satisfied: certifi>=2017.4.17 in /usr/local/lib/python3.10/dist-packages (from requests>=2.19.0->pooch>=1.8.1->pybamm) (2024.8.30)\n",
            "Downloading pybamm-24.9.0-cp310-cp310-manylinux_2_17_x86_64.manylinux2014_x86_64.whl (16.5 MB)\n",
            "\u001b[2K   \u001b[90m━━━━━━━━━━━━━━━━━━━━━━━━━━━━━━━━━━━━━━━━\u001b[0m \u001b[32m16.5/16.5 MB\u001b[0m \u001b[31m61.2 MB/s\u001b[0m eta \u001b[36m0:00:00\u001b[0m\n",
            "\u001b[?25hDownloading anytree-2.12.1-py3-none-any.whl (44 kB)\n",
            "\u001b[2K   \u001b[90m━━━━━━━━━━━━━━━━━━━━━━━━━━━━━━━━━━━━━━━━\u001b[0m \u001b[32m44.9/44.9 kB\u001b[0m \u001b[31m3.2 MB/s\u001b[0m eta \u001b[36m0:00:00\u001b[0m\n",
            "\u001b[?25hDownloading casadi-3.6.6-cp310-none-manylinux2014_x86_64.whl (75.8 MB)\n",
            "\u001b[2K   \u001b[90m━━━━━━━━━━━━━━━━━━━━━━━━━━━━━━━━━━━━━━━━\u001b[0m \u001b[32m75.8/75.8 MB\u001b[0m \u001b[31m13.8 MB/s\u001b[0m eta \u001b[36m0:00:00\u001b[0m\n",
            "\u001b[?25hInstalling collected packages: casadi, anytree, pybamm\n",
            "Successfully installed anytree-2.12.1 casadi-3.6.6 pybamm-24.9.0\n"
          ]
        }
      ],
      "source": [
        "pip install pybamm"
      ]
    },
    {
      "cell_type": "code",
      "source": [
        "import pybamm"
      ],
      "metadata": {
        "id": "tEsBEg3ckPWe"
      },
      "execution_count": 2,
      "outputs": []
    },
    {
      "cell_type": "code",
      "source": [
        "dfn=pybamm.lithium_ion.DFN()"
      ],
      "metadata": {
        "id": "anzJtyTZkZE5"
      },
      "execution_count": 3,
      "outputs": []
    },
    {
      "cell_type": "code",
      "source": [
        "dfn.submodels"
      ],
      "metadata": {
        "colab": {
          "base_uri": "https://localhost:8080/"
        },
        "id": "0xszAVKokpbz",
        "outputId": "e349f142-c7ef-4f0e-8987-c57649e59bd8"
      },
      "execution_count": 4,
      "outputs": [
        {
          "output_type": "execute_result",
          "data": {
            "text/plain": [
              "{'external circuit': <pybamm.models.submodels.external_circuit.explicit_control_external_circuit.ExplicitCurrentControl at 0x7d12bdf42c50>,\n",
              " 'discharge and throughput variables': <pybamm.models.submodels.external_circuit.discharge_throughput.DischargeThroughput at 0x7d12bd01a0e0>,\n",
              " 'porosity': <pybamm.models.submodels.porosity.constant_porosity.Constant at 0x7d12bd01aef0>,\n",
              " 'Negative interface utilisation': <pybamm.models.submodels.interface.interface_utilisation.full_utilisation.Full at 0x7d12bd01bbb0>,\n",
              " 'Positive interface utilisation': <pybamm.models.submodels.interface.interface_utilisation.full_utilisation.Full at 0x7d12bd01afe0>,\n",
              " 'negative particle mechanics': <pybamm.models.submodels.particle_mechanics.no_mechanics.NoMechanics at 0x7d12bd019db0>,\n",
              " 'positive particle mechanics': <pybamm.models.submodels.particle_mechanics.no_mechanics.NoMechanics at 0x7d12bd01a200>,\n",
              " 'negative primary active material': <pybamm.models.submodels.active_material.constant_active_material.Constant at 0x7d12bd019180>,\n",
              " 'positive primary active material': <pybamm.models.submodels.active_material.constant_active_material.Constant at 0x7d12bd01b010>,\n",
              " 'electrolyte transport efficiency': <pybamm.models.submodels.transport_efficiency.bruggeman.Bruggeman at 0x7d12bd018550>,\n",
              " 'electrode transport efficiency': <pybamm.models.submodels.transport_efficiency.bruggeman.Bruggeman at 0x7d12bd018a90>,\n",
              " 'transverse convection': <pybamm.models.submodels.convection.transverse.no_convection.NoConvection at 0x7d12bd01b2b0>,\n",
              " 'through-cell convection': <pybamm.models.submodels.convection.through_cell.no_convection.NoConvection at 0x7d12bd01abc0>,\n",
              " 'negative primary open-circuit potential': <pybamm.models.submodels.interface.open_circuit_potential.single_ocp.SingleOpenCircuitPotential at 0x7d12bd019270>,\n",
              " 'positive primary open-circuit potential': <pybamm.models.submodels.interface.open_circuit_potential.single_ocp.SingleOpenCircuitPotential at 0x7d12bd01b2e0>,\n",
              " 'negative primary interface': <pybamm.models.submodels.interface.kinetics.butler_volmer.SymmetricButlerVolmer at 0x7d12bd01b490>,\n",
              " 'positive primary interface': <pybamm.models.submodels.interface.kinetics.butler_volmer.SymmetricButlerVolmer at 0x7d12bd01be80>,\n",
              " 'negative primary particle': <pybamm.models.submodels.particle.fickian_diffusion.FickianDiffusion at 0x7d12ba0158a0>,\n",
              " 'negative primary total particle concentration': <pybamm.models.submodels.particle.total_particle_concentration.TotalConcentration at 0x7d12ba0173d0>,\n",
              " 'positive primary particle': <pybamm.models.submodels.particle.fickian_diffusion.FickianDiffusion at 0x7d12ba015240>,\n",
              " 'positive primary total particle concentration': <pybamm.models.submodels.particle.total_particle_concentration.TotalConcentration at 0x7d12ba017c10>,\n",
              " 'negative electrode potential': <pybamm.models.submodels.electrode.ohm.full_ohm.Full at 0x7d12bd019cc0>,\n",
              " 'positive electrode potential': <pybamm.models.submodels.electrode.ohm.full_ohm.Full at 0x7d12ba0156c0>,\n",
              " 'electrolyte diffusion': <pybamm.models.submodels.electrolyte_diffusion.full_diffusion.Full at 0x7d12bd018850>,\n",
              " 'electrolyte conductivity': <pybamm.models.submodels.electrolyte_conductivity.full_conductivity.Full at 0x7d12ba014340>,\n",
              " 'negative surface potential difference': <pybamm.models.submodels.electrolyte_conductivity.surface_potential_form.explicit_surface_form_conductivity.Explicit at 0x7d12ba0150c0>,\n",
              " 'separator surface potential difference': <pybamm.models.submodels.electrolyte_conductivity.surface_potential_form.explicit_surface_form_conductivity.Explicit at 0x7d12ba016830>,\n",
              " 'positive surface potential difference': <pybamm.models.submodels.electrolyte_conductivity.surface_potential_form.explicit_surface_form_conductivity.Explicit at 0x7d12ba016620>,\n",
              " 'thermal': <pybamm.models.submodels.thermal.isothermal.Isothermal at 0x7d12ba017340>,\n",
              " 'surface temperature': <pybamm.models.submodels.thermal.surface.ambient.Ambient at 0x7d12ba017b20>,\n",
              " 'current collector': <pybamm.models.submodels.current_collector.homogeneous_current_collector.Uniform at 0x7d12ba016650>,\n",
              " 'negative primary sei': <pybamm.models.submodels.interface.sei.no_sei.NoSEI at 0x7d12ba014580>,\n",
              " 'positive primary sei': <pybamm.models.submodels.interface.sei.no_sei.NoSEI at 0x7d12ba014160>,\n",
              " 'negative primary sei on cracks': <pybamm.models.submodels.interface.sei.no_sei.NoSEI at 0x7d12ba0175b0>,\n",
              " 'positive primary sei on cracks': <pybamm.models.submodels.interface.sei.no_sei.NoSEI at 0x7d12ba0140a0>,\n",
              " 'negative primary lithium plating': <pybamm.models.submodels.interface.lithium_plating.no_plating.NoPlating at 0x7d12ba014130>,\n",
              " 'positive primary lithium plating': <pybamm.models.submodels.interface.lithium_plating.no_plating.NoPlating at 0x7d12ba015420>,\n",
              " 'total interface': <pybamm.models.submodels.interface.total_interfacial_current.TotalInterfacialCurrent at 0x7d12ba016320>}"
            ]
          },
          "metadata": {},
          "execution_count": 4
        }
      ]
    },
    {
      "cell_type": "code",
      "source": [
        "spm=pybamm.lithium_ion.SPM()"
      ],
      "metadata": {
        "id": "3ZAZ9iwWk3Ok"
      },
      "execution_count": 10,
      "outputs": []
    },
    {
      "cell_type": "code",
      "source": [
        "spm.submodels"
      ],
      "metadata": {
        "colab": {
          "base_uri": "https://localhost:8080/"
        },
        "id": "fX94Skoslyjq",
        "outputId": "87dd67ec-c272-49f7-b1c1-5d0fcb3d23dd"
      },
      "execution_count": 11,
      "outputs": [
        {
          "output_type": "execute_result",
          "data": {
            "text/plain": [
              "{'external circuit': <pybamm.models.submodels.external_circuit.explicit_control_external_circuit.ExplicitCurrentControl at 0x7d12b65fb3d0>,\n",
              " 'discharge and throughput variables': <pybamm.models.submodels.external_circuit.discharge_throughput.DischargeThroughput at 0x7d12b65fba90>,\n",
              " 'porosity': <pybamm.models.submodels.porosity.constant_porosity.Constant at 0x7d12b65fb7f0>,\n",
              " 'Negative interface utilisation': <pybamm.models.submodels.interface.interface_utilisation.full_utilisation.Full at 0x7d12b65fb2b0>,\n",
              " 'Positive interface utilisation': <pybamm.models.submodels.interface.interface_utilisation.full_utilisation.Full at 0x7d12b65fb1c0>,\n",
              " 'negative particle mechanics': <pybamm.models.submodels.particle_mechanics.no_mechanics.NoMechanics at 0x7d12b65fb100>,\n",
              " 'positive particle mechanics': <pybamm.models.submodels.particle_mechanics.no_mechanics.NoMechanics at 0x7d12b65fae00>,\n",
              " 'negative primary active material': <pybamm.models.submodels.active_material.constant_active_material.Constant at 0x7d12b65fa6e0>,\n",
              " 'positive primary active material': <pybamm.models.submodels.active_material.constant_active_material.Constant at 0x7d12b65fad10>,\n",
              " 'electrolyte transport efficiency': <pybamm.models.submodels.transport_efficiency.bruggeman.Bruggeman at 0x7d12b65fb460>,\n",
              " 'electrode transport efficiency': <pybamm.models.submodels.transport_efficiency.bruggeman.Bruggeman at 0x7d12b65fac20>,\n",
              " 'transverse convection': <pybamm.models.submodels.convection.transverse.no_convection.NoConvection at 0x7d12b65fab90>,\n",
              " 'through-cell convection': <pybamm.models.submodels.convection.through_cell.no_convection.NoConvection at 0x7d12b65fa9b0>,\n",
              " 'negative primary open-circuit potential': <pybamm.models.submodels.interface.open_circuit_potential.single_ocp.SingleOpenCircuitPotential at 0x7d12b65fa0e0>,\n",
              " 'positive primary open-circuit potential': <pybamm.models.submodels.interface.open_circuit_potential.single_ocp.SingleOpenCircuitPotential at 0x7d12b65fa800>,\n",
              " 'negative interface': <pybamm.models.submodels.interface.kinetics.inverse_kinetics.inverse_butler_volmer.InverseButlerVolmer at 0x7d12b65fa830>,\n",
              " 'negative interface current': <pybamm.models.submodels.interface.kinetics.inverse_kinetics.inverse_butler_volmer.CurrentForInverseButlerVolmer at 0x7d12b65f9de0>,\n",
              " 'positive interface': <pybamm.models.submodels.interface.kinetics.inverse_kinetics.inverse_butler_volmer.InverseButlerVolmer at 0x7d12b65f9db0>,\n",
              " 'positive interface current': <pybamm.models.submodels.interface.kinetics.inverse_kinetics.inverse_butler_volmer.CurrentForInverseButlerVolmer at 0x7d12b65f9d50>,\n",
              " 'negative primary particle': <pybamm.models.submodels.particle.fickian_diffusion.FickianDiffusion at 0x7d12b65f9b40>,\n",
              " 'negative primary total particle concentration': <pybamm.models.submodels.particle.total_particle_concentration.TotalConcentration at 0x7d12b65f9960>,\n",
              " 'positive primary particle': <pybamm.models.submodels.particle.fickian_diffusion.FickianDiffusion at 0x7d12b65f9b10>,\n",
              " 'positive primary total particle concentration': <pybamm.models.submodels.particle.total_particle_concentration.TotalConcentration at 0x7d12b65f95a0>,\n",
              " 'negative electrode potential': <pybamm.models.submodels.electrode.ohm.leading_ohm.LeadingOrder at 0x7d12b65f94e0>,\n",
              " 'positive electrode potential': <pybamm.models.submodels.electrode.ohm.leading_ohm.LeadingOrder at 0x7d12b65f9570>,\n",
              " 'electrolyte diffusion': <pybamm.models.submodels.electrolyte_diffusion.constant_concentration.ConstantConcentration at 0x7d12b65fa050>,\n",
              " 'leading-order electrolyte conductivity': <pybamm.models.submodels.electrolyte_conductivity.leading_order_conductivity.LeadingOrder at 0x7d12b65f9420>,\n",
              " 'negative surface potential difference': <pybamm.models.submodels.electrolyte_conductivity.surface_potential_form.explicit_surface_form_conductivity.Explicit at 0x7d12b65f9210>,\n",
              " 'positive surface potential difference': <pybamm.models.submodels.electrolyte_conductivity.surface_potential_form.explicit_surface_form_conductivity.Explicit at 0x7d12b65f9180>,\n",
              " 'thermal': <pybamm.models.submodels.thermal.isothermal.Isothermal at 0x7d12b65f9300>,\n",
              " 'surface temperature': <pybamm.models.submodels.thermal.surface.ambient.Ambient at 0x7d12b65f8d30>,\n",
              " 'current collector': <pybamm.models.submodels.current_collector.homogeneous_current_collector.Uniform at 0x7d12b65f8d90>,\n",
              " 'negative primary sei': <pybamm.models.submodels.interface.sei.no_sei.NoSEI at 0x7d12b65fbca0>,\n",
              " 'positive primary sei': <pybamm.models.submodels.interface.sei.no_sei.NoSEI at 0x7d12b65fbd30>,\n",
              " 'negative primary sei on cracks': <pybamm.models.submodels.interface.sei.no_sei.NoSEI at 0x7d12b65fbd90>,\n",
              " 'positive primary sei on cracks': <pybamm.models.submodels.interface.sei.no_sei.NoSEI at 0x7d12b65fbdf0>,\n",
              " 'negative primary lithium plating': <pybamm.models.submodels.interface.lithium_plating.no_plating.NoPlating at 0x7d12b65fbe50>,\n",
              " 'positive primary lithium plating': <pybamm.models.submodels.interface.lithium_plating.no_plating.NoPlating at 0x7d12b65fbeb0>,\n",
              " 'total interface': <pybamm.models.submodels.interface.total_interfacial_current.TotalInterfacialCurrent at 0x7d12b65f8af0>}"
            ]
          },
          "metadata": {},
          "execution_count": 11
        }
      ]
    },
    {
      "cell_type": "code",
      "source": [
        "spm.submodels['electrolyte diffusion']"
      ],
      "metadata": {
        "colab": {
          "base_uri": "https://localhost:8080/"
        },
        "id": "HD5H9ptLlW2w",
        "outputId": "f1afe69c-81f2-4170-b75f-1126e9784959"
      },
      "execution_count": 12,
      "outputs": [
        {
          "output_type": "execute_result",
          "data": {
            "text/plain": [
              "<pybamm.models.submodels.electrolyte_diffusion.constant_concentration.ConstantConcentration at 0x7d12b65fa050>"
            ]
          },
          "metadata": {},
          "execution_count": 12
        }
      ]
    },
    {
      "cell_type": "code",
      "source": [
        "dfn.submodels ['electrolyte diffusion']"
      ],
      "metadata": {
        "colab": {
          "base_uri": "https://localhost:8080/"
        },
        "id": "T35c8M3nl4Af",
        "outputId": "fd9b38ca-5532-4ed6-ba9a-8da51b7e9b0a"
      },
      "execution_count": 15,
      "outputs": [
        {
          "output_type": "execute_result",
          "data": {
            "text/plain": [
              "<pybamm.models.submodels.electrolyte_diffusion.full_diffusion.Full at 0x7d12bd018850>"
            ]
          },
          "metadata": {},
          "execution_count": 15
        }
      ]
    }
  ]
}